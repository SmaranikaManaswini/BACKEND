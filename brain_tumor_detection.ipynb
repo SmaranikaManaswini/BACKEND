{
  "cells": [
    {
      "cell_type": "markdown",
      "metadata": {
        "id": "view-in-github",
        "colab_type": "text"
      },
      "source": [
        "<a href=\"https://colab.research.google.com/github/SmaranikaManaswini/BACKEND/blob/main/brain_tumor_detection.ipynb\" target=\"_parent\"><img src=\"https://colab.research.google.com/assets/colab-badge.svg\" alt=\"Open In Colab\"/></a>"
      ]
    },
    {
      "cell_type": "code",
      "execution_count": null,
      "metadata": {
        "colab": {
          "base_uri": "https://localhost:8080/",
          "height": 91
        },
        "id": "QV1FJqtpq9kU",
        "outputId": "f05277e9-9de2-4ebc-dfef-bc334e9d13fb"
      },
      "outputs": [
        {
          "data": {
            "text/html": [
              "\n",
              "     <input type=\"file\" id=\"files-c0f5835e-650d-446e-a13a-ca88218f788b\" name=\"files[]\" multiple disabled\n",
              "        style=\"border:none\" />\n",
              "     <output id=\"result-c0f5835e-650d-446e-a13a-ca88218f788b\">\n",
              "      Upload widget is only available when the cell has been executed in the\n",
              "      current browser session. Please rerun this cell to enable.\n",
              "      </output>\n",
              "      <script>// Copyright 2017 Google LLC\n",
              "//\n",
              "// Licensed under the Apache License, Version 2.0 (the \"License\");\n",
              "// you may not use this file except in compliance with the License.\n",
              "// You may obtain a copy of the License at\n",
              "//\n",
              "//      http://www.apache.org/licenses/LICENSE-2.0\n",
              "//\n",
              "// Unless required by applicable law or agreed to in writing, software\n",
              "// distributed under the License is distributed on an \"AS IS\" BASIS,\n",
              "// WITHOUT WARRANTIES OR CONDITIONS OF ANY KIND, either express or implied.\n",
              "// See the License for the specific language governing permissions and\n",
              "// limitations under the License.\n",
              "\n",
              "/**\n",
              " * @fileoverview Helpers for google.colab Python module.\n",
              " */\n",
              "(function(scope) {\n",
              "function span(text, styleAttributes = {}) {\n",
              "  const element = document.createElement('span');\n",
              "  element.textContent = text;\n",
              "  for (const key of Object.keys(styleAttributes)) {\n",
              "    element.style[key] = styleAttributes[key];\n",
              "  }\n",
              "  return element;\n",
              "}\n",
              "\n",
              "// Max number of bytes which will be uploaded at a time.\n",
              "const MAX_PAYLOAD_SIZE = 100 * 1024;\n",
              "\n",
              "function _uploadFiles(inputId, outputId) {\n",
              "  const steps = uploadFilesStep(inputId, outputId);\n",
              "  const outputElement = document.getElementById(outputId);\n",
              "  // Cache steps on the outputElement to make it available for the next call\n",
              "  // to uploadFilesContinue from Python.\n",
              "  outputElement.steps = steps;\n",
              "\n",
              "  return _uploadFilesContinue(outputId);\n",
              "}\n",
              "\n",
              "// This is roughly an async generator (not supported in the browser yet),\n",
              "// where there are multiple asynchronous steps and the Python side is going\n",
              "// to poll for completion of each step.\n",
              "// This uses a Promise to block the python side on completion of each step,\n",
              "// then passes the result of the previous step as the input to the next step.\n",
              "function _uploadFilesContinue(outputId) {\n",
              "  const outputElement = document.getElementById(outputId);\n",
              "  const steps = outputElement.steps;\n",
              "\n",
              "  const next = steps.next(outputElement.lastPromiseValue);\n",
              "  return Promise.resolve(next.value.promise).then((value) => {\n",
              "    // Cache the last promise value to make it available to the next\n",
              "    // step of the generator.\n",
              "    outputElement.lastPromiseValue = value;\n",
              "    return next.value.response;\n",
              "  });\n",
              "}\n",
              "\n",
              "/**\n",
              " * Generator function which is called between each async step of the upload\n",
              " * process.\n",
              " * @param {string} inputId Element ID of the input file picker element.\n",
              " * @param {string} outputId Element ID of the output display.\n",
              " * @return {!Iterable<!Object>} Iterable of next steps.\n",
              " */\n",
              "function* uploadFilesStep(inputId, outputId) {\n",
              "  const inputElement = document.getElementById(inputId);\n",
              "  inputElement.disabled = false;\n",
              "\n",
              "  const outputElement = document.getElementById(outputId);\n",
              "  outputElement.innerHTML = '';\n",
              "\n",
              "  const pickedPromise = new Promise((resolve) => {\n",
              "    inputElement.addEventListener('change', (e) => {\n",
              "      resolve(e.target.files);\n",
              "    });\n",
              "  });\n",
              "\n",
              "  const cancel = document.createElement('button');\n",
              "  inputElement.parentElement.appendChild(cancel);\n",
              "  cancel.textContent = 'Cancel upload';\n",
              "  const cancelPromise = new Promise((resolve) => {\n",
              "    cancel.onclick = () => {\n",
              "      resolve(null);\n",
              "    };\n",
              "  });\n",
              "\n",
              "  // Wait for the user to pick the files.\n",
              "  const files = yield {\n",
              "    promise: Promise.race([pickedPromise, cancelPromise]),\n",
              "    response: {\n",
              "      action: 'starting',\n",
              "    }\n",
              "  };\n",
              "\n",
              "  cancel.remove();\n",
              "\n",
              "  // Disable the input element since further picks are not allowed.\n",
              "  inputElement.disabled = true;\n",
              "\n",
              "  if (!files) {\n",
              "    return {\n",
              "      response: {\n",
              "        action: 'complete',\n",
              "      }\n",
              "    };\n",
              "  }\n",
              "\n",
              "  for (const file of files) {\n",
              "    const li = document.createElement('li');\n",
              "    li.append(span(file.name, {fontWeight: 'bold'}));\n",
              "    li.append(span(\n",
              "        `(${file.type || 'n/a'}) - ${file.size} bytes, ` +\n",
              "        `last modified: ${\n",
              "            file.lastModifiedDate ? file.lastModifiedDate.toLocaleDateString() :\n",
              "                                    'n/a'} - `));\n",
              "    const percent = span('0% done');\n",
              "    li.appendChild(percent);\n",
              "\n",
              "    outputElement.appendChild(li);\n",
              "\n",
              "    const fileDataPromise = new Promise((resolve) => {\n",
              "      const reader = new FileReader();\n",
              "      reader.onload = (e) => {\n",
              "        resolve(e.target.result);\n",
              "      };\n",
              "      reader.readAsArrayBuffer(file);\n",
              "    });\n",
              "    // Wait for the data to be ready.\n",
              "    let fileData = yield {\n",
              "      promise: fileDataPromise,\n",
              "      response: {\n",
              "        action: 'continue',\n",
              "      }\n",
              "    };\n",
              "\n",
              "    // Use a chunked sending to avoid message size limits. See b/62115660.\n",
              "    let position = 0;\n",
              "    do {\n",
              "      const length = Math.min(fileData.byteLength - position, MAX_PAYLOAD_SIZE);\n",
              "      const chunk = new Uint8Array(fileData, position, length);\n",
              "      position += length;\n",
              "\n",
              "      const base64 = btoa(String.fromCharCode.apply(null, chunk));\n",
              "      yield {\n",
              "        response: {\n",
              "          action: 'append',\n",
              "          file: file.name,\n",
              "          data: base64,\n",
              "        },\n",
              "      };\n",
              "\n",
              "      let percentDone = fileData.byteLength === 0 ?\n",
              "          100 :\n",
              "          Math.round((position / fileData.byteLength) * 100);\n",
              "      percent.textContent = `${percentDone}% done`;\n",
              "\n",
              "    } while (position < fileData.byteLength);\n",
              "  }\n",
              "\n",
              "  // All done.\n",
              "  yield {\n",
              "    response: {\n",
              "      action: 'complete',\n",
              "    }\n",
              "  };\n",
              "}\n",
              "\n",
              "scope.google = scope.google || {};\n",
              "scope.google.colab = scope.google.colab || {};\n",
              "scope.google.colab._files = {\n",
              "  _uploadFiles,\n",
              "  _uploadFilesContinue,\n",
              "};\n",
              "})(self);\n",
              "</script> "
            ],
            "text/plain": [
              "<IPython.core.display.HTML object>"
            ]
          },
          "metadata": {},
          "output_type": "display_data"
        },
        {
          "name": "stdout",
          "output_type": "stream",
          "text": [
            "Saving kaggle.json to kaggle.json\n"
          ]
        },
        {
          "data": {
            "text/plain": [
              "{'kaggle.json': b'{\"username\":\"smaranikamanaswini\",\"key\":\"cc95077d9d3caf34b65e61245f3bb05e\"}'}"
            ]
          },
          "execution_count": 1,
          "metadata": {},
          "output_type": "execute_result"
        }
      ],
      "source": [
        "from google.colab import files\n",
        "files.upload()  # Select kaggle.json from your device\n"
      ]
    },
    {
      "cell_type": "code",
      "execution_count": null,
      "metadata": {
        "colab": {
          "base_uri": "https://localhost:8080/"
        },
        "id": "GpQvd38krWbx",
        "outputId": "72ca26fc-e427-4ed4-a17c-14a53ea050ce"
      },
      "outputs": [
        {
          "name": "stdout",
          "output_type": "stream",
          "text": [
            "Requirement already satisfied: kaggle in /usr/local/lib/python3.11/dist-packages (1.6.17)\n",
            "Requirement already satisfied: six>=1.10 in /usr/local/lib/python3.11/dist-packages (from kaggle) (1.17.0)\n",
            "Requirement already satisfied: certifi>=2023.7.22 in /usr/local/lib/python3.11/dist-packages (from kaggle) (2025.1.31)\n",
            "Requirement already satisfied: python-dateutil in /usr/local/lib/python3.11/dist-packages (from kaggle) (2.8.2)\n",
            "Requirement already satisfied: requests in /usr/local/lib/python3.11/dist-packages (from kaggle) (2.32.3)\n",
            "Requirement already satisfied: tqdm in /usr/local/lib/python3.11/dist-packages (from kaggle) (4.67.1)\n",
            "Requirement already satisfied: python-slugify in /usr/local/lib/python3.11/dist-packages (from kaggle) (8.0.4)\n",
            "Requirement already satisfied: urllib3 in /usr/local/lib/python3.11/dist-packages (from kaggle) (2.3.0)\n",
            "Requirement already satisfied: bleach in /usr/local/lib/python3.11/dist-packages (from kaggle) (6.2.0)\n",
            "Requirement already satisfied: webencodings in /usr/local/lib/python3.11/dist-packages (from bleach->kaggle) (0.5.1)\n",
            "Requirement already satisfied: text-unidecode>=1.3 in /usr/local/lib/python3.11/dist-packages (from python-slugify->kaggle) (1.3)\n",
            "Requirement already satisfied: charset-normalizer<4,>=2 in /usr/local/lib/python3.11/dist-packages (from requests->kaggle) (3.4.1)\n",
            "Requirement already satisfied: idna<4,>=2.5 in /usr/local/lib/python3.11/dist-packages (from requests->kaggle) (3.10)\n"
          ]
        }
      ],
      "source": [
        "import os\n",
        "import zipfile\n",
        "\n",
        "# Move kaggle.json to ~/.kaggle (hidden directory)\n",
        "!mkdir -p ~/.kaggle\n",
        "!mv kaggle.json ~/.kaggle/\n",
        "\n",
        "# Set correct permissions\n",
        "!chmod 600 ~/.kaggle/kaggle.json\n",
        "\n",
        "# Install Kaggle API\n",
        "!pip install kaggle\n"
      ]
    },
    {
      "cell_type": "code",
      "execution_count": null,
      "metadata": {
        "colab": {
          "base_uri": "https://localhost:8080/"
        },
        "id": "WUE2ZBqCttlJ",
        "outputId": "3694c68d-05cb-4e2b-cab6-8ef81a3b9fc5"
      },
      "outputs": [
        {
          "name": "stdout",
          "output_type": "stream",
          "text": [
            "Requirement already satisfied: kagglehub in /usr/local/lib/python3.11/dist-packages (0.3.6)\n",
            "Collecting kagglehub\n",
            "  Downloading kagglehub-0.3.7-py3-none-any.whl.metadata (30 kB)\n",
            "Collecting model-signing (from kagglehub)\n",
            "  Downloading model_signing-0.2.0-py3-none-any.whl.metadata (26 kB)\n",
            "Requirement already satisfied: packaging in /usr/local/lib/python3.11/dist-packages (from kagglehub) (24.2)\n",
            "Requirement already satisfied: requests in /usr/local/lib/python3.11/dist-packages (from kagglehub) (2.32.3)\n",
            "Requirement already satisfied: tqdm in /usr/local/lib/python3.11/dist-packages (from kagglehub) (4.67.1)\n",
            "Requirement already satisfied: cryptography in /usr/local/lib/python3.11/dist-packages (from model-signing->kagglehub) (43.0.3)\n",
            "Collecting in-toto-attestation (from model-signing->kagglehub)\n",
            "  Downloading in_toto_attestation-0.9.3-py3-none-any.whl.metadata (2.6 kB)\n",
            "Collecting sigstore (from model-signing->kagglehub)\n",
            "  Downloading sigstore-3.6.1-py3-none-any.whl.metadata (15 kB)\n",
            "Requirement already satisfied: typing-extensions in /usr/local/lib/python3.11/dist-packages (from model-signing->kagglehub) (4.12.2)\n",
            "Requirement already satisfied: charset-normalizer<4,>=2 in /usr/local/lib/python3.11/dist-packages (from requests->kagglehub) (3.4.1)\n",
            "Requirement already satisfied: idna<4,>=2.5 in /usr/local/lib/python3.11/dist-packages (from requests->kagglehub) (3.10)\n",
            "Requirement already satisfied: urllib3<3,>=1.21.1 in /usr/local/lib/python3.11/dist-packages (from requests->kagglehub) (2.3.0)\n",
            "Requirement already satisfied: certifi>=2017.4.17 in /usr/local/lib/python3.11/dist-packages (from requests->kagglehub) (2025.1.31)\n",
            "Requirement already satisfied: cffi>=1.12 in /usr/local/lib/python3.11/dist-packages (from cryptography->model-signing->kagglehub) (1.17.1)\n",
            "Requirement already satisfied: protobuf in /usr/local/lib/python3.11/dist-packages (from in-toto-attestation->model-signing->kagglehub) (4.25.6)\n",
            "Collecting id>=1.1.0 (from sigstore->model-signing->kagglehub)\n",
            "  Downloading id-1.5.0-py3-none-any.whl.metadata (5.2 kB)\n",
            "Requirement already satisfied: pyasn1~=0.6 in /usr/local/lib/python3.11/dist-packages (from sigstore->model-signing->kagglehub) (0.6.1)\n",
            "Requirement already satisfied: pydantic<3,>=2 in /usr/local/lib/python3.11/dist-packages (from sigstore->model-signing->kagglehub) (2.10.6)\n",
            "Requirement already satisfied: pyjwt>=2.1 in /usr/local/lib/python3.11/dist-packages (from sigstore->model-signing->kagglehub) (2.10.1)\n",
            "Requirement already satisfied: pyOpenSSL>=23.0.0 in /usr/local/lib/python3.11/dist-packages (from sigstore->model-signing->kagglehub) (24.2.1)\n",
            "Requirement already satisfied: rich~=13.0 in /usr/local/lib/python3.11/dist-packages (from sigstore->model-signing->kagglehub) (13.9.4)\n",
            "Collecting rfc8785~=0.1.2 (from sigstore->model-signing->kagglehub)\n",
            "  Downloading rfc8785-0.1.4-py3-none-any.whl.metadata (3.4 kB)\n",
            "Collecting rfc3161-client~=0.1.2 (from sigstore->model-signing->kagglehub)\n",
            "  Downloading rfc3161_client-0.1.2-cp39-abi3-manylinux_2_17_x86_64.manylinux2014_x86_64.whl.metadata (3.0 kB)\n",
            "Collecting sigstore-protobuf-specs==0.3.2 (from sigstore->model-signing->kagglehub)\n",
            "  Downloading sigstore_protobuf_specs-0.3.2-py3-none-any.whl.metadata (1.4 kB)\n",
            "Collecting sigstore-rekor-types==0.0.18 (from sigstore->model-signing->kagglehub)\n",
            "  Downloading sigstore_rekor_types-0.0.18-py3-none-any.whl.metadata (13 kB)\n",
            "Collecting tuf~=5.0 (from sigstore->model-signing->kagglehub)\n",
            "  Downloading tuf-5.1.0-py3-none-any.whl.metadata (7.9 kB)\n",
            "Requirement already satisfied: platformdirs~=4.2 in /usr/local/lib/python3.11/dist-packages (from sigstore->model-signing->kagglehub) (4.3.6)\n",
            "Collecting betterproto==2.0.0b6 (from sigstore-protobuf-specs==0.3.2->sigstore->model-signing->kagglehub)\n",
            "  Downloading betterproto-2.0.0b6-py3-none-any.whl.metadata (17 kB)\n",
            "Collecting grpclib<0.5.0,>=0.4.1 (from betterproto==2.0.0b6->sigstore-protobuf-specs==0.3.2->sigstore->model-signing->kagglehub)\n",
            "  Downloading grpclib-0.4.7.tar.gz (61 kB)\n",
            "\u001b[2K     \u001b[90m━━━━━━━━━━━━━━━━━━━━━━━━━━━━━━━━━━━━━━━━\u001b[0m \u001b[32m61.3/61.3 kB\u001b[0m \u001b[31m3.7 MB/s\u001b[0m eta \u001b[36m0:00:00\u001b[0m\n",
            "\u001b[?25h  Installing build dependencies ... \u001b[?25l\u001b[?25hdone\n",
            "  Getting requirements to build wheel ... \u001b[?25l\u001b[?25hdone\n",
            "  Preparing metadata (pyproject.toml) ... \u001b[?25l\u001b[?25hdone\n",
            "Requirement already satisfied: python-dateutil<3.0,>=2.8 in /usr/local/lib/python3.11/dist-packages (from betterproto==2.0.0b6->sigstore-protobuf-specs==0.3.2->sigstore->model-signing->kagglehub) (2.8.2)\n",
            "Requirement already satisfied: pycparser in /usr/local/lib/python3.11/dist-packages (from cffi>=1.12->cryptography->model-signing->kagglehub) (2.22)\n",
            "Requirement already satisfied: annotated-types>=0.6.0 in /usr/local/lib/python3.11/dist-packages (from pydantic<3,>=2->sigstore->model-signing->kagglehub) (0.7.0)\n",
            "Requirement already satisfied: pydantic-core==2.27.2 in /usr/local/lib/python3.11/dist-packages (from pydantic<3,>=2->sigstore->model-signing->kagglehub) (2.27.2)\n",
            "Requirement already satisfied: markdown-it-py>=2.2.0 in /usr/local/lib/python3.11/dist-packages (from rich~=13.0->sigstore->model-signing->kagglehub) (3.0.0)\n",
            "Requirement already satisfied: pygments<3.0.0,>=2.13.0 in /usr/local/lib/python3.11/dist-packages (from rich~=13.0->sigstore->model-signing->kagglehub) (2.18.0)\n",
            "Collecting securesystemslib~=1.0 (from tuf~=5.0->sigstore->model-signing->kagglehub)\n",
            "  Downloading securesystemslib-1.2.0-py3-none-any.whl.metadata (4.8 kB)\n",
            "Requirement already satisfied: mdurl~=0.1 in /usr/local/lib/python3.11/dist-packages (from markdown-it-py>=2.2.0->rich~=13.0->sigstore->model-signing->kagglehub) (0.1.2)\n",
            "Collecting email-validator>=2.0.0 (from pydantic[email]<3,>=2->sigstore-rekor-types==0.0.18->sigstore->model-signing->kagglehub)\n",
            "  Downloading email_validator-2.2.0-py3-none-any.whl.metadata (25 kB)\n",
            "Collecting dnspython>=2.0.0 (from email-validator>=2.0.0->pydantic[email]<3,>=2->sigstore-rekor-types==0.0.18->sigstore->model-signing->kagglehub)\n",
            "  Downloading dnspython-2.7.0-py3-none-any.whl.metadata (5.8 kB)\n",
            "Collecting h2<5,>=3.1.0 (from grpclib<0.5.0,>=0.4.1->betterproto==2.0.0b6->sigstore-protobuf-specs==0.3.2->sigstore->model-signing->kagglehub)\n",
            "  Downloading h2-4.2.0-py3-none-any.whl.metadata (5.1 kB)\n",
            "Requirement already satisfied: multidict in /usr/local/lib/python3.11/dist-packages (from grpclib<0.5.0,>=0.4.1->betterproto==2.0.0b6->sigstore-protobuf-specs==0.3.2->sigstore->model-signing->kagglehub) (6.1.0)\n",
            "Requirement already satisfied: six>=1.5 in /usr/local/lib/python3.11/dist-packages (from python-dateutil<3.0,>=2.8->betterproto==2.0.0b6->sigstore-protobuf-specs==0.3.2->sigstore->model-signing->kagglehub) (1.17.0)\n",
            "Collecting hyperframe<7,>=6.1 (from h2<5,>=3.1.0->grpclib<0.5.0,>=0.4.1->betterproto==2.0.0b6->sigstore-protobuf-specs==0.3.2->sigstore->model-signing->kagglehub)\n",
            "  Downloading hyperframe-6.1.0-py3-none-any.whl.metadata (4.3 kB)\n",
            "Collecting hpack<5,>=4.1 (from h2<5,>=3.1.0->grpclib<0.5.0,>=0.4.1->betterproto==2.0.0b6->sigstore-protobuf-specs==0.3.2->sigstore->model-signing->kagglehub)\n",
            "  Downloading hpack-4.1.0-py3-none-any.whl.metadata (4.6 kB)\n",
            "Downloading kagglehub-0.3.7-py3-none-any.whl (54 kB)\n",
            "\u001b[2K   \u001b[90m━━━━━━━━━━━━━━━━━━━━━━━━━━━━━━━━━━━━━━━━\u001b[0m \u001b[32m54.5/54.5 kB\u001b[0m \u001b[31m4.6 MB/s\u001b[0m eta \u001b[36m0:00:00\u001b[0m\n",
            "\u001b[?25hDownloading model_signing-0.2.0-py3-none-any.whl (63 kB)\n",
            "\u001b[2K   \u001b[90m━━━━━━━━━━━━━━━━━━━━━━━━━━━━━━━━━━━━━━━━\u001b[0m \u001b[32m63.8/63.8 kB\u001b[0m \u001b[31m4.6 MB/s\u001b[0m eta \u001b[36m0:00:00\u001b[0m\n",
            "\u001b[?25hDownloading in_toto_attestation-0.9.3-py3-none-any.whl (13 kB)\n",
            "Downloading sigstore-3.6.1-py3-none-any.whl (99 kB)\n",
            "\u001b[2K   \u001b[90m━━━━━━━━━━━━━━━━━━━━━━━━━━━━━━━━━━━━━━━━\u001b[0m \u001b[32m99.2/99.2 kB\u001b[0m \u001b[31m7.9 MB/s\u001b[0m eta \u001b[36m0:00:00\u001b[0m\n",
            "\u001b[?25hDownloading sigstore_protobuf_specs-0.3.2-py3-none-any.whl (24 kB)\n",
            "Downloading sigstore_rekor_types-0.0.18-py3-none-any.whl (20 kB)\n",
            "Downloading betterproto-2.0.0b6-py3-none-any.whl (64 kB)\n",
            "\u001b[2K   \u001b[90m━━━━━━━━━━━━━━━━━━━━━━━━━━━━━━━━━━━━━━━━\u001b[0m \u001b[32m64.3/64.3 kB\u001b[0m \u001b[31m4.8 MB/s\u001b[0m eta \u001b[36m0:00:00\u001b[0m\n",
            "\u001b[?25hDownloading id-1.5.0-py3-none-any.whl (13 kB)\n",
            "Downloading rfc3161_client-0.1.2-cp39-abi3-manylinux_2_17_x86_64.manylinux2014_x86_64.whl (2.1 MB)\n",
            "\u001b[2K   \u001b[90m━━━━━━━━━━━━━━━━━━━━━━━━━━━━━━━━━━━━━━━━\u001b[0m \u001b[32m2.1/2.1 MB\u001b[0m \u001b[31m48.8 MB/s\u001b[0m eta \u001b[36m0:00:00\u001b[0m\n",
            "\u001b[?25hDownloading rfc8785-0.1.4-py3-none-any.whl (9.2 kB)\n",
            "Downloading tuf-5.1.0-py3-none-any.whl (50 kB)\n",
            "\u001b[2K   \u001b[90m━━━━━━━━━━━━━━━━━━━━━━━━━━━━━━━━━━━━━━━━\u001b[0m \u001b[32m50.8/50.8 kB\u001b[0m \u001b[31m4.3 MB/s\u001b[0m eta \u001b[36m0:00:00\u001b[0m\n",
            "\u001b[?25hDownloading securesystemslib-1.2.0-py3-none-any.whl (870 kB)\n",
            "\u001b[2K   \u001b[90m━━━━━━━━━━━━━━━━━━━━━━━━━━━━━━━━━━━━━━━━\u001b[0m \u001b[32m870.8/870.8 kB\u001b[0m \u001b[31m49.8 MB/s\u001b[0m eta \u001b[36m0:00:00\u001b[0m\n",
            "\u001b[?25hDownloading email_validator-2.2.0-py3-none-any.whl (33 kB)\n",
            "Downloading dnspython-2.7.0-py3-none-any.whl (313 kB)\n",
            "\u001b[2K   \u001b[90m━━━━━━━━━━━━━━━━━━━━━━━━━━━━━━━━━━━━━━━━\u001b[0m \u001b[32m313.6/313.6 kB\u001b[0m \u001b[31m18.0 MB/s\u001b[0m eta \u001b[36m0:00:00\u001b[0m\n",
            "\u001b[?25hDownloading h2-4.2.0-py3-none-any.whl (60 kB)\n",
            "\u001b[2K   \u001b[90m━━━━━━━━━━━━━━━━━━━━━━━━━━━━━━━━━━━━━━━━\u001b[0m \u001b[32m61.0/61.0 kB\u001b[0m \u001b[31m5.2 MB/s\u001b[0m eta \u001b[36m0:00:00\u001b[0m\n",
            "\u001b[?25hDownloading hpack-4.1.0-py3-none-any.whl (34 kB)\n",
            "Downloading hyperframe-6.1.0-py3-none-any.whl (13 kB)\n",
            "Building wheels for collected packages: grpclib\n",
            "  Building wheel for grpclib (pyproject.toml) ... \u001b[?25l\u001b[?25hdone\n",
            "  Created wheel for grpclib: filename=grpclib-0.4.7-py3-none-any.whl size=76229 sha256=3226db81a5802aea149fb256d57d6c3f34c2b0c26502124d7f1d9a2bf82e5e49\n",
            "  Stored in directory: /root/.cache/pip/wheels/1a/6e/f8/47a179a8cf84417e94206ee7bdee3cc4219a011e6ca1973eb0\n",
            "Successfully built grpclib\n",
            "Installing collected packages: securesystemslib, rfc8785, in-toto-attestation, hyperframe, hpack, dnspython, tuf, id, h2, email-validator, rfc3161-client, grpclib, sigstore-rekor-types, betterproto, sigstore-protobuf-specs, sigstore, model-signing, kagglehub\n",
            "  Attempting uninstall: kagglehub\n",
            "    Found existing installation: kagglehub 0.3.6\n",
            "    Uninstalling kagglehub-0.3.6:\n",
            "      Successfully uninstalled kagglehub-0.3.6\n",
            "Successfully installed betterproto-2.0.0b6 dnspython-2.7.0 email-validator-2.2.0 grpclib-0.4.7 h2-4.2.0 hpack-4.1.0 hyperframe-6.1.0 id-1.5.0 in-toto-attestation-0.9.3 kagglehub-0.3.7 model-signing-0.2.0 rfc3161-client-0.1.2 rfc8785-0.1.4 securesystemslib-1.2.0 sigstore-3.6.1 sigstore-protobuf-specs-0.3.2 sigstore-rekor-types-0.0.18 tuf-5.1.0\n"
          ]
        }
      ],
      "source": [
        "!pip install --upgrade kagglehub\n"
      ]
    },
    {
      "cell_type": "code",
      "execution_count": null,
      "metadata": {
        "colab": {
          "base_uri": "https://localhost:8080/"
        },
        "id": "s2RWyro3uGvM",
        "outputId": "6dfc3e5c-9dad-4a3a-9552-fbdf19008bb5"
      },
      "outputs": [
        {
          "name": "stdout",
          "output_type": "stream",
          "text": [
            "Downloading from https://www.kaggle.com/api/v1/datasets/download/navoneel/brain-mri-images-for-brain-tumor-detection?dataset_version_number=1...\n"
          ]
        },
        {
          "name": "stderr",
          "output_type": "stream",
          "text": [
            "100%|██████████| 15.1M/15.1M [00:00<00:00, 16.2MB/s]"
          ]
        },
        {
          "name": "stdout",
          "output_type": "stream",
          "text": [
            "Extracting files...\n"
          ]
        },
        {
          "name": "stderr",
          "output_type": "stream",
          "text": [
            "\n"
          ]
        },
        {
          "name": "stdout",
          "output_type": "stream",
          "text": [
            "Path to dataset files: /root/.cache/kagglehub/datasets/navoneel/brain-mri-images-for-brain-tumor-detection/versions/1\n"
          ]
        }
      ],
      "source": [
        "import kagglehub\n",
        "\n",
        "# Download latest version\n",
        "path = kagglehub.dataset_download(\"navoneel/brain-mri-images-for-brain-tumor-detection\")\n",
        "\n",
        "print(\"Path to dataset files:\", path)"
      ]
    },
    {
      "cell_type": "code",
      "execution_count": null,
      "metadata": {
        "colab": {
          "base_uri": "https://localhost:8080/"
        },
        "id": "9nZV1qNEuW4J",
        "outputId": "8025a7c5-0aba-4e41-904a-ab73200cd412"
      },
      "outputs": [
        {
          "name": "stdout",
          "output_type": "stream",
          "text": [
            "/bin/bash: line 1: /root/.cache/kagglehub/datasets/navoneel/brain-mri-images-for-brain-tumor-detection/versions/1: Is a directory\n"
          ]
        }
      ],
      "source": [
        "!/root/.cache/kagglehub/datasets/navoneel/brain-mri-images-for-brain-tumor-detection/versions/1"
      ]
    },
    {
      "cell_type": "code",
      "execution_count": null,
      "metadata": {
        "colab": {
          "base_uri": "https://localhost:8080/"
        },
        "id": "Dt-ETzUxucmJ",
        "outputId": "d711f7dc-df7b-4010-a4c8-d1330ab038b7"
      },
      "outputs": [
        {
          "name": "stdout",
          "output_type": "stream",
          "text": [
            "brain_tumor_dataset  no  yes\n"
          ]
        }
      ],
      "source": [
        "!ls /root/.cache/kagglehub/datasets/navoneel/brain-mri-images-for-brain-tumor-detection/versions/1\n"
      ]
    },
    {
      "cell_type": "code",
      "execution_count": null,
      "metadata": {
        "colab": {
          "base_uri": "https://localhost:8080/"
        },
        "id": "DupJzWucvM5Q",
        "outputId": "6eb8d08a-db54-4699-e20a-78b948df1017"
      },
      "outputs": [
        {
          "name": "stdout",
          "output_type": "stream",
          "text": [
            "mv: cannot stat '/root/.cache/kagglehub/datasets/navoneel/brain-mri-images-for-brain-tumor-detection/versions/1': No such file or directory\n"
          ]
        }
      ],
      "source": [
        "!mv /root/.cache/kagglehub/datasets/navoneel/brain-mri-images-for-brain-tumor-detection/versions/1 /content/brain_tumor_dataset\n"
      ]
    },
    {
      "cell_type": "code",
      "execution_count": null,
      "metadata": {
        "colab": {
          "base_uri": "https://localhost:8080/"
        },
        "id": "o1h7gfMNvZgr",
        "outputId": "ba9acf3f-60ef-4abc-cf4f-d713666e6f83"
      },
      "outputs": [
        {
          "name": "stdout",
          "output_type": "stream",
          "text": [
            "brain_tumor_dataset  no  yes\n"
          ]
        }
      ],
      "source": [
        "!ls /content/brain_tumor_dataset\n"
      ]
    },
    {
      "cell_type": "code",
      "execution_count": null,
      "metadata": {
        "colab": {
          "base_uri": "https://localhost:8080/"
        },
        "id": "O9wD7XMrvyyf",
        "outputId": "7f38b298-61ab-49c6-f223-3044cac132f8"
      },
      "outputs": [
        {
          "name": "stdout",
          "output_type": "stream",
          "text": [
            "total 12\n",
            "drwxr-xr-x 4 root root 4096 Feb  9 02:00 brain_tumor_dataset\n",
            "drwxr-xr-x 2 root root 4096 Feb  9 02:00 no\n",
            "drwxr-xr-x 2 root root 4096 Feb  9 02:00 yes\n"
          ]
        }
      ],
      "source": [
        "!ls -l /content/brain_tumor_dataset\n"
      ]
    },
    {
      "cell_type": "code",
      "execution_count": null,
      "metadata": {
        "colab": {
          "base_uri": "https://localhost:8080/"
        },
        "id": "WF-_0qzVwKP6",
        "outputId": "3e2c3cd3-0060-4783-e4aa-42bb446c831d"
      },
      "outputs": [
        {
          "name": "stdout",
          "output_type": "stream",
          "text": [
            "mv: cannot stat '/root/.cache/kagglehub/datasets/navoneel/brain-mri-images-for-brain-tumor-detection/versions/1': No such file or directory\n"
          ]
        }
      ],
      "source": [
        "!mv /root/.cache/kagglehub/datasets/navoneel/brain-mri-images-for-brain-tumor-detection/versions/1 /content/brain_tumor_dataset\n"
      ]
    },
    {
      "cell_type": "code",
      "execution_count": null,
      "metadata": {
        "colab": {
          "base_uri": "https://localhost:8080/"
        },
        "id": "X-ArcHhGwai1",
        "outputId": "7df57a13-4275-4d78-b057-6b91889a60db"
      },
      "outputs": [
        {
          "name": "stdout",
          "output_type": "stream",
          "text": [
            "/root/.cache/kagglehub/\n",
            "/root/.cache/kagglehub/datasets\n",
            "/root/.cache/kagglehub/datasets/navoneel\n",
            "/root/.cache/kagglehub/datasets/navoneel/brain-mri-images-for-brain-tumor-detection\n",
            "/root/.cache/kagglehub/datasets/navoneel/brain-mri-images-for-brain-tumor-detection/versions\n",
            "/root/.cache/kagglehub/datasets/navoneel/brain-mri-images-for-brain-tumor-detection/versions/1\n",
            "/root/.cache/kagglehub/datasets/navoneel/brain-mri-images-for-brain-tumor-detection/versions/1/yes\n",
            "/root/.cache/kagglehub/datasets/navoneel/brain-mri-images-for-brain-tumor-detection/versions/1/no\n",
            "/root/.cache/kagglehub/datasets/navoneel/brain-mri-images-for-brain-tumor-detection/versions/1/brain_tumor_dataset\n",
            "/root/.cache/kagglehub/datasets/navoneel/brain-mri-images-for-brain-tumor-detection/versions/1/brain_tumor_dataset/yes\n",
            "/root/.cache/kagglehub/datasets/navoneel/brain-mri-images-for-brain-tumor-detection/versions/1/brain_tumor_dataset/no\n"
          ]
        }
      ],
      "source": [
        "!find /root/.cache/kagglehub/ -type d\n"
      ]
    },
    {
      "cell_type": "code",
      "execution_count": null,
      "metadata": {
        "colab": {
          "base_uri": "https://localhost:8080/"
        },
        "id": "V-kqjaT5wctX",
        "outputId": "35db2c65-e324-4494-e47d-c7c3a67ae7d9"
      },
      "outputs": [
        {
          "name": "stdout",
          "output_type": "stream",
          "text": [
            "brain_tumor_dataset  no  yes\n"
          ]
        }
      ],
      "source": [
        "!ls /content/brain_tumor_dataset\n"
      ]
    },
    {
      "cell_type": "code",
      "execution_count": null,
      "metadata": {
        "colab": {
          "base_uri": "https://localhost:8080/"
        },
        "id": "rxkzmvFPwrJC",
        "outputId": "d7f8e82b-e05d-46c8-d407-fbe7bc9b37ff"
      },
      "outputs": [
        {
          "name": "stdout",
          "output_type": "stream",
          "text": [
            "mv: cannot stat '/root/.cache/kagglehub/datasets/navoneel/brain-mri-images-for-brain-tumor-detection/versions/1': No such file or directory\n"
          ]
        }
      ],
      "source": [
        "!mv /root/.cache/kagglehub/datasets/navoneel/brain-mri-images-for-brain-tumor-detection/versions/1 /content/brain_tumor_dataset\n"
      ]
    },
    {
      "cell_type": "code",
      "execution_count": null,
      "metadata": {
        "colab": {
          "base_uri": "https://localhost:8080/"
        },
        "id": "YR__pESgwt14",
        "outputId": "841d2801-0d3f-4d7c-be69-1d739058883d"
      },
      "outputs": [
        {
          "name": "stdout",
          "output_type": "stream",
          "text": [
            "navoneel\n"
          ]
        }
      ],
      "source": [
        "!ls /root/.cache/kagglehub/datasets/\n"
      ]
    },
    {
      "cell_type": "code",
      "execution_count": null,
      "metadata": {
        "colab": {
          "base_uri": "https://localhost:8080/"
        },
        "id": "b-jg7mutxoPK",
        "outputId": "20183c80-0f92-433b-80c9-f38c763e91e9"
      },
      "outputs": [
        {
          "name": "stdout",
          "output_type": "stream",
          "text": [
            "Dataset URL: https://www.kaggle.com/datasets/navoneel/brain-mri-images-for-brain-tumor-detection\n",
            "License(s): copyright-authors\n",
            "Downloading brain-mri-images-for-brain-tumor-detection.zip to /content\n",
            " 79% 12.0M/15.1M [00:00<00:00, 21.2MB/s]\n",
            "100% 15.1M/15.1M [00:00<00:00, 16.1MB/s]\n"
          ]
        }
      ],
      "source": [
        "!kaggle datasets download -d navoneel/brain-mri-images-for-brain-tumor-detection -p /content/\n"
      ]
    },
    {
      "cell_type": "code",
      "execution_count": null,
      "metadata": {
        "colab": {
          "base_uri": "https://localhost:8080/"
        },
        "id": "ZlT2_G9wx2kf",
        "outputId": "14b1f037-5018-46b0-8fa4-667edfd4bbd9"
      },
      "outputs": [
        {
          "name": "stdout",
          "output_type": "stream",
          "text": [
            "Archive:  /content/brain-mri-images-for-brain-tumor-detection.zip\n",
            "  inflating: /content/brain_tumor_dataset/brain_tumor_dataset/no/1 no.jpeg  \n",
            "  inflating: /content/brain_tumor_dataset/brain_tumor_dataset/no/10 no.jpg  \n",
            "  inflating: /content/brain_tumor_dataset/brain_tumor_dataset/no/11 no.jpg  \n",
            "  inflating: /content/brain_tumor_dataset/brain_tumor_dataset/no/12 no.jpg  \n",
            "  inflating: /content/brain_tumor_dataset/brain_tumor_dataset/no/13 no.jpg  \n",
            "  inflating: /content/brain_tumor_dataset/brain_tumor_dataset/no/14 no.jpg  \n",
            "  inflating: /content/brain_tumor_dataset/brain_tumor_dataset/no/15 no.jpg  \n",
            "  inflating: /content/brain_tumor_dataset/brain_tumor_dataset/no/17 no.jpg  \n",
            "  inflating: /content/brain_tumor_dataset/brain_tumor_dataset/no/18 no.jpg  \n",
            "  inflating: /content/brain_tumor_dataset/brain_tumor_dataset/no/19 no.jpg  \n",
            "  inflating: /content/brain_tumor_dataset/brain_tumor_dataset/no/2 no.jpeg  \n",
            "  inflating: /content/brain_tumor_dataset/brain_tumor_dataset/no/20 no.jpg  \n",
            "  inflating: /content/brain_tumor_dataset/brain_tumor_dataset/no/21 no.jpg  \n",
            "  inflating: /content/brain_tumor_dataset/brain_tumor_dataset/no/22 no.jpg  \n",
            "  inflating: /content/brain_tumor_dataset/brain_tumor_dataset/no/23 no.jpg  \n",
            "  inflating: /content/brain_tumor_dataset/brain_tumor_dataset/no/24 no.jpg  \n",
            "  inflating: /content/brain_tumor_dataset/brain_tumor_dataset/no/25 no.jpg  \n",
            "  inflating: /content/brain_tumor_dataset/brain_tumor_dataset/no/26 no.jpg  \n",
            "  inflating: /content/brain_tumor_dataset/brain_tumor_dataset/no/27 no.jpg  \n",
            "  inflating: /content/brain_tumor_dataset/brain_tumor_dataset/no/28 no.jpg  \n",
            "  inflating: /content/brain_tumor_dataset/brain_tumor_dataset/no/29 no.jpg  \n",
            "  inflating: /content/brain_tumor_dataset/brain_tumor_dataset/no/3 no.jpg  \n",
            "  inflating: /content/brain_tumor_dataset/brain_tumor_dataset/no/30 no.jpg  \n",
            "  inflating: /content/brain_tumor_dataset/brain_tumor_dataset/no/31 no.jpg  \n",
            "  inflating: /content/brain_tumor_dataset/brain_tumor_dataset/no/32 no.jpg  \n",
            "  inflating: /content/brain_tumor_dataset/brain_tumor_dataset/no/33 no.jpg  \n",
            "  inflating: /content/brain_tumor_dataset/brain_tumor_dataset/no/34 no.jpg  \n",
            "  inflating: /content/brain_tumor_dataset/brain_tumor_dataset/no/35 no.jpg  \n",
            "  inflating: /content/brain_tumor_dataset/brain_tumor_dataset/no/36 no.jpg  \n",
            "  inflating: /content/brain_tumor_dataset/brain_tumor_dataset/no/37 no.jpg  \n",
            "  inflating: /content/brain_tumor_dataset/brain_tumor_dataset/no/38 no.jpg  \n",
            "  inflating: /content/brain_tumor_dataset/brain_tumor_dataset/no/39 no.jpg  \n",
            "  inflating: /content/brain_tumor_dataset/brain_tumor_dataset/no/4 no.jpg  \n",
            "  inflating: /content/brain_tumor_dataset/brain_tumor_dataset/no/40 no.jpg  \n",
            "  inflating: /content/brain_tumor_dataset/brain_tumor_dataset/no/41 no.jpg  \n",
            "  inflating: /content/brain_tumor_dataset/brain_tumor_dataset/no/42 no.jpg  \n",
            "  inflating: /content/brain_tumor_dataset/brain_tumor_dataset/no/43 no.jpg  \n",
            "  inflating: /content/brain_tumor_dataset/brain_tumor_dataset/no/44no.jpg  \n",
            "  inflating: /content/brain_tumor_dataset/brain_tumor_dataset/no/45 no.jpg  \n",
            "  inflating: /content/brain_tumor_dataset/brain_tumor_dataset/no/46 no.jpg  \n",
            "  inflating: /content/brain_tumor_dataset/brain_tumor_dataset/no/47 no.jpg  \n",
            "  inflating: /content/brain_tumor_dataset/brain_tumor_dataset/no/48 no.jpeg  \n",
            "  inflating: /content/brain_tumor_dataset/brain_tumor_dataset/no/49 no.jpg  \n",
            "  inflating: /content/brain_tumor_dataset/brain_tumor_dataset/no/5 no.jpg  \n",
            "  inflating: /content/brain_tumor_dataset/brain_tumor_dataset/no/50 no.jpg  \n",
            "  inflating: /content/brain_tumor_dataset/brain_tumor_dataset/no/6 no.jpg  \n",
            "  inflating: /content/brain_tumor_dataset/brain_tumor_dataset/no/7 no.jpg  \n",
            "  inflating: /content/brain_tumor_dataset/brain_tumor_dataset/no/8 no.jpg  \n",
            "  inflating: /content/brain_tumor_dataset/brain_tumor_dataset/no/9 no.jpg  \n",
            "  inflating: /content/brain_tumor_dataset/brain_tumor_dataset/no/N1.JPG  \n",
            "  inflating: /content/brain_tumor_dataset/brain_tumor_dataset/no/N11.jpg  \n",
            "  inflating: /content/brain_tumor_dataset/brain_tumor_dataset/no/N15.jpg  \n",
            "  inflating: /content/brain_tumor_dataset/brain_tumor_dataset/no/N16.jpg  \n",
            "  inflating: /content/brain_tumor_dataset/brain_tumor_dataset/no/N17.jpg  \n",
            "  inflating: /content/brain_tumor_dataset/brain_tumor_dataset/no/N19.JPG  \n",
            "  inflating: /content/brain_tumor_dataset/brain_tumor_dataset/no/N2.JPG  \n",
            "  inflating: /content/brain_tumor_dataset/brain_tumor_dataset/no/N20.JPG  \n",
            "  inflating: /content/brain_tumor_dataset/brain_tumor_dataset/no/N21.jpg  \n",
            "  inflating: /content/brain_tumor_dataset/brain_tumor_dataset/no/N22.JPG  \n",
            "  inflating: /content/brain_tumor_dataset/brain_tumor_dataset/no/N26.JPG  \n",
            "  inflating: /content/brain_tumor_dataset/brain_tumor_dataset/no/N3.jpg  \n",
            "  inflating: /content/brain_tumor_dataset/brain_tumor_dataset/no/N5.jpg  \n",
            "  inflating: /content/brain_tumor_dataset/brain_tumor_dataset/no/N6.jpg  \n",
            "  inflating: /content/brain_tumor_dataset/brain_tumor_dataset/no/No11.jpg  \n",
            "  inflating: /content/brain_tumor_dataset/brain_tumor_dataset/no/No12.jpg  \n",
            "  inflating: /content/brain_tumor_dataset/brain_tumor_dataset/no/No13.jpg  \n",
            "  inflating: /content/brain_tumor_dataset/brain_tumor_dataset/no/No14.jpg  \n",
            "  inflating: /content/brain_tumor_dataset/brain_tumor_dataset/no/No15.jpg  \n",
            "  inflating: /content/brain_tumor_dataset/brain_tumor_dataset/no/No16.jpg  \n",
            "  inflating: /content/brain_tumor_dataset/brain_tumor_dataset/no/No17.jpg  \n",
            "  inflating: /content/brain_tumor_dataset/brain_tumor_dataset/no/No18.jpg  \n",
            "  inflating: /content/brain_tumor_dataset/brain_tumor_dataset/no/No19.jpg  \n",
            "  inflating: /content/brain_tumor_dataset/brain_tumor_dataset/no/No20.jpg  \n",
            "  inflating: /content/brain_tumor_dataset/brain_tumor_dataset/no/No21.jpg  \n",
            "  inflating: /content/brain_tumor_dataset/brain_tumor_dataset/no/No22.jpg  \n",
            "  inflating: /content/brain_tumor_dataset/brain_tumor_dataset/no/no 1.jpg  \n",
            "  inflating: /content/brain_tumor_dataset/brain_tumor_dataset/no/no 10.jpg  \n",
            "  inflating: /content/brain_tumor_dataset/brain_tumor_dataset/no/no 100.jpg  \n",
            "  inflating: /content/brain_tumor_dataset/brain_tumor_dataset/no/no 2.jpg  \n",
            "  inflating: /content/brain_tumor_dataset/brain_tumor_dataset/no/no 3.jpg  \n",
            "  inflating: /content/brain_tumor_dataset/brain_tumor_dataset/no/no 4.jpg  \n",
            "  inflating: /content/brain_tumor_dataset/brain_tumor_dataset/no/no 5.jpeg  \n",
            "  inflating: /content/brain_tumor_dataset/brain_tumor_dataset/no/no 6.jpg  \n",
            "  inflating: /content/brain_tumor_dataset/brain_tumor_dataset/no/no 7.jpeg  \n",
            "  inflating: /content/brain_tumor_dataset/brain_tumor_dataset/no/no 8.jpg  \n",
            "  inflating: /content/brain_tumor_dataset/brain_tumor_dataset/no/no 89.jpg  \n",
            "  inflating: /content/brain_tumor_dataset/brain_tumor_dataset/no/no 9.png  \n",
            "  inflating: /content/brain_tumor_dataset/brain_tumor_dataset/no/no 90.jpg  \n",
            "  inflating: /content/brain_tumor_dataset/brain_tumor_dataset/no/no 91.jpeg  \n",
            "  inflating: /content/brain_tumor_dataset/brain_tumor_dataset/no/no 92.jpg  \n",
            "  inflating: /content/brain_tumor_dataset/brain_tumor_dataset/no/no 923.jpg  \n",
            "  inflating: /content/brain_tumor_dataset/brain_tumor_dataset/no/no 94.jpg  \n",
            "  inflating: /content/brain_tumor_dataset/brain_tumor_dataset/no/no 95.jpg  \n",
            "  inflating: /content/brain_tumor_dataset/brain_tumor_dataset/no/no 96.jpg  \n",
            "  inflating: /content/brain_tumor_dataset/brain_tumor_dataset/no/no 97.jpg  \n",
            "  inflating: /content/brain_tumor_dataset/brain_tumor_dataset/no/no 98.jpg  \n",
            "  inflating: /content/brain_tumor_dataset/brain_tumor_dataset/no/no 99.jpg  \n",
            "  inflating: /content/brain_tumor_dataset/brain_tumor_dataset/no/no.jpg  \n",
            "  inflating: /content/brain_tumor_dataset/brain_tumor_dataset/yes/Y1.jpg  \n",
            "  inflating: /content/brain_tumor_dataset/brain_tumor_dataset/yes/Y10.jpg  \n",
            "  inflating: /content/brain_tumor_dataset/brain_tumor_dataset/yes/Y100.JPG  \n",
            "  inflating: /content/brain_tumor_dataset/brain_tumor_dataset/yes/Y101.jpg  \n",
            "  inflating: /content/brain_tumor_dataset/brain_tumor_dataset/yes/Y102.jpg  \n",
            "  inflating: /content/brain_tumor_dataset/brain_tumor_dataset/yes/Y103.jpg  \n",
            "  inflating: /content/brain_tumor_dataset/brain_tumor_dataset/yes/Y104.jpg  \n",
            "  inflating: /content/brain_tumor_dataset/brain_tumor_dataset/yes/Y105.jpg  \n",
            "  inflating: /content/brain_tumor_dataset/brain_tumor_dataset/yes/Y106.jpg  \n",
            "  inflating: /content/brain_tumor_dataset/brain_tumor_dataset/yes/Y107.jpg  \n",
            "  inflating: /content/brain_tumor_dataset/brain_tumor_dataset/yes/Y108.jpg  \n",
            "  inflating: /content/brain_tumor_dataset/brain_tumor_dataset/yes/Y109.JPG  \n",
            "  inflating: /content/brain_tumor_dataset/brain_tumor_dataset/yes/Y11.jpg  \n",
            "  inflating: /content/brain_tumor_dataset/brain_tumor_dataset/yes/Y111.JPG  \n",
            "  inflating: /content/brain_tumor_dataset/brain_tumor_dataset/yes/Y112.JPG  \n",
            "  inflating: /content/brain_tumor_dataset/brain_tumor_dataset/yes/Y113.JPG  \n",
            "  inflating: /content/brain_tumor_dataset/brain_tumor_dataset/yes/Y114.JPG  \n",
            "  inflating: /content/brain_tumor_dataset/brain_tumor_dataset/yes/Y115.JPG  \n",
            "  inflating: /content/brain_tumor_dataset/brain_tumor_dataset/yes/Y116.JPG  \n",
            "  inflating: /content/brain_tumor_dataset/brain_tumor_dataset/yes/Y117.JPG  \n",
            "  inflating: /content/brain_tumor_dataset/brain_tumor_dataset/yes/Y12.jpg  \n",
            "  inflating: /content/brain_tumor_dataset/brain_tumor_dataset/yes/Y120.JPG  \n",
            "  inflating: /content/brain_tumor_dataset/brain_tumor_dataset/yes/Y13.jpg  \n",
            "  inflating: /content/brain_tumor_dataset/brain_tumor_dataset/yes/Y14.jpg  \n",
            "  inflating: /content/brain_tumor_dataset/brain_tumor_dataset/yes/Y146.JPG  \n",
            "  inflating: /content/brain_tumor_dataset/brain_tumor_dataset/yes/Y147.JPG  \n",
            "  inflating: /content/brain_tumor_dataset/brain_tumor_dataset/yes/Y148.JPG  \n",
            "  inflating: /content/brain_tumor_dataset/brain_tumor_dataset/yes/Y15.jpg  \n",
            "  inflating: /content/brain_tumor_dataset/brain_tumor_dataset/yes/Y153.jpg  \n",
            "  inflating: /content/brain_tumor_dataset/brain_tumor_dataset/yes/Y154.jpg  \n",
            "  inflating: /content/brain_tumor_dataset/brain_tumor_dataset/yes/Y155.JPG  \n",
            "  inflating: /content/brain_tumor_dataset/brain_tumor_dataset/yes/Y156.JPG  \n",
            "  inflating: /content/brain_tumor_dataset/brain_tumor_dataset/yes/Y157.JPG  \n",
            "  inflating: /content/brain_tumor_dataset/brain_tumor_dataset/yes/Y158.JPG  \n",
            "  inflating: /content/brain_tumor_dataset/brain_tumor_dataset/yes/Y159.JPG  \n",
            "  inflating: /content/brain_tumor_dataset/brain_tumor_dataset/yes/Y16.JPG  \n",
            "  inflating: /content/brain_tumor_dataset/brain_tumor_dataset/yes/Y160.JPG  \n",
            "  inflating: /content/brain_tumor_dataset/brain_tumor_dataset/yes/Y161.JPG  \n",
            "  inflating: /content/brain_tumor_dataset/brain_tumor_dataset/yes/Y162.jpg  \n",
            "  inflating: /content/brain_tumor_dataset/brain_tumor_dataset/yes/Y163.JPG  \n",
            "  inflating: /content/brain_tumor_dataset/brain_tumor_dataset/yes/Y164.JPG  \n",
            "  inflating: /content/brain_tumor_dataset/brain_tumor_dataset/yes/Y165.JPG  \n",
            "  inflating: /content/brain_tumor_dataset/brain_tumor_dataset/yes/Y166.JPG  \n",
            "  inflating: /content/brain_tumor_dataset/brain_tumor_dataset/yes/Y167.JPG  \n",
            "  inflating: /content/brain_tumor_dataset/brain_tumor_dataset/yes/Y168.jpg  \n",
            "  inflating: /content/brain_tumor_dataset/brain_tumor_dataset/yes/Y169.jpg  \n",
            "  inflating: /content/brain_tumor_dataset/brain_tumor_dataset/yes/Y17.jpg  \n",
            "  inflating: /content/brain_tumor_dataset/brain_tumor_dataset/yes/Y170.JPG  \n",
            "  inflating: /content/brain_tumor_dataset/brain_tumor_dataset/yes/Y18.JPG  \n",
            "  inflating: /content/brain_tumor_dataset/brain_tumor_dataset/yes/Y180.jpg  \n",
            "  inflating: /content/brain_tumor_dataset/brain_tumor_dataset/yes/Y181.jpg  \n",
            "  inflating: /content/brain_tumor_dataset/brain_tumor_dataset/yes/Y182.JPG  \n",
            "  inflating: /content/brain_tumor_dataset/brain_tumor_dataset/yes/Y183.jpg  \n",
            "  inflating: /content/brain_tumor_dataset/brain_tumor_dataset/yes/Y184.JPG  \n",
            "  inflating: /content/brain_tumor_dataset/brain_tumor_dataset/yes/Y185.jpg  \n",
            "  inflating: /content/brain_tumor_dataset/brain_tumor_dataset/yes/Y186.jpg  \n",
            "  inflating: /content/brain_tumor_dataset/brain_tumor_dataset/yes/Y187.jpg  \n",
            "  inflating: /content/brain_tumor_dataset/brain_tumor_dataset/yes/Y188.jpg  \n",
            "  inflating: /content/brain_tumor_dataset/brain_tumor_dataset/yes/Y19.JPG  \n",
            "  inflating: /content/brain_tumor_dataset/brain_tumor_dataset/yes/Y192.JPG  \n",
            "  inflating: /content/brain_tumor_dataset/brain_tumor_dataset/yes/Y193.JPG  \n",
            "  inflating: /content/brain_tumor_dataset/brain_tumor_dataset/yes/Y194.jpg  \n",
            "  inflating: /content/brain_tumor_dataset/brain_tumor_dataset/yes/Y195.JPG  \n",
            "  inflating: /content/brain_tumor_dataset/brain_tumor_dataset/yes/Y2.jpg  \n",
            "  inflating: /content/brain_tumor_dataset/brain_tumor_dataset/yes/Y20.jpg  \n",
            "  inflating: /content/brain_tumor_dataset/brain_tumor_dataset/yes/Y21.jpg  \n",
            "  inflating: /content/brain_tumor_dataset/brain_tumor_dataset/yes/Y22.jpg  \n",
            "  inflating: /content/brain_tumor_dataset/brain_tumor_dataset/yes/Y23.JPG  \n",
            "  inflating: /content/brain_tumor_dataset/brain_tumor_dataset/yes/Y24.jpg  \n",
            "  inflating: /content/brain_tumor_dataset/brain_tumor_dataset/yes/Y242.JPG  \n",
            "  inflating: /content/brain_tumor_dataset/brain_tumor_dataset/yes/Y243.JPG  \n",
            "  inflating: /content/brain_tumor_dataset/brain_tumor_dataset/yes/Y244.JPG  \n",
            "  inflating: /content/brain_tumor_dataset/brain_tumor_dataset/yes/Y245.jpg  \n",
            "  inflating: /content/brain_tumor_dataset/brain_tumor_dataset/yes/Y246.JPG  \n",
            "  inflating: /content/brain_tumor_dataset/brain_tumor_dataset/yes/Y247.JPG  \n",
            "  inflating: /content/brain_tumor_dataset/brain_tumor_dataset/yes/Y248.JPG  \n",
            "  inflating: /content/brain_tumor_dataset/brain_tumor_dataset/yes/Y249.JPG  \n",
            "  inflating: /content/brain_tumor_dataset/brain_tumor_dataset/yes/Y25.jpg  \n",
            "  inflating: /content/brain_tumor_dataset/brain_tumor_dataset/yes/Y250.jpg  \n",
            "  inflating: /content/brain_tumor_dataset/brain_tumor_dataset/yes/Y251.JPG  \n",
            "  inflating: /content/brain_tumor_dataset/brain_tumor_dataset/yes/Y252.jpg  \n",
            "  inflating: /content/brain_tumor_dataset/brain_tumor_dataset/yes/Y253.JPG  \n",
            "  inflating: /content/brain_tumor_dataset/brain_tumor_dataset/yes/Y254.jpg  \n",
            "  inflating: /content/brain_tumor_dataset/brain_tumor_dataset/yes/Y255.JPG  \n",
            "  inflating: /content/brain_tumor_dataset/brain_tumor_dataset/yes/Y256.JPG  \n",
            "  inflating: /content/brain_tumor_dataset/brain_tumor_dataset/yes/Y257.jpg  \n",
            "  inflating: /content/brain_tumor_dataset/brain_tumor_dataset/yes/Y258.JPG  \n",
            "  inflating: /content/brain_tumor_dataset/brain_tumor_dataset/yes/Y259.JPG  \n",
            "  inflating: /content/brain_tumor_dataset/brain_tumor_dataset/yes/Y26.jpg  \n",
            "  inflating: /content/brain_tumor_dataset/brain_tumor_dataset/yes/Y27.jpg  \n",
            "  inflating: /content/brain_tumor_dataset/brain_tumor_dataset/yes/Y28.jpg  \n",
            "  inflating: /content/brain_tumor_dataset/brain_tumor_dataset/yes/Y29.jpg  \n",
            "  inflating: /content/brain_tumor_dataset/brain_tumor_dataset/yes/Y3.jpg  \n",
            "  inflating: /content/brain_tumor_dataset/brain_tumor_dataset/yes/Y30.jpg  \n",
            "  inflating: /content/brain_tumor_dataset/brain_tumor_dataset/yes/Y31.jpg  \n",
            "  inflating: /content/brain_tumor_dataset/brain_tumor_dataset/yes/Y32.jpg  \n",
            "  inflating: /content/brain_tumor_dataset/brain_tumor_dataset/yes/Y33.jpg  \n",
            "  inflating: /content/brain_tumor_dataset/brain_tumor_dataset/yes/Y34.jpg  \n",
            "  inflating: /content/brain_tumor_dataset/brain_tumor_dataset/yes/Y35.jpg  \n",
            "  inflating: /content/brain_tumor_dataset/brain_tumor_dataset/yes/Y36.JPG  \n",
            "  inflating: /content/brain_tumor_dataset/brain_tumor_dataset/yes/Y37.jpg  \n",
            "  inflating: /content/brain_tumor_dataset/brain_tumor_dataset/yes/Y38.jpg  \n",
            "  inflating: /content/brain_tumor_dataset/brain_tumor_dataset/yes/Y39.jpg  \n",
            "  inflating: /content/brain_tumor_dataset/brain_tumor_dataset/yes/Y4.jpg  \n",
            "  inflating: /content/brain_tumor_dataset/brain_tumor_dataset/yes/Y40.JPG  \n",
            "  inflating: /content/brain_tumor_dataset/brain_tumor_dataset/yes/Y41.jpg  \n",
            "  inflating: /content/brain_tumor_dataset/brain_tumor_dataset/yes/Y42.jpg  \n",
            "  inflating: /content/brain_tumor_dataset/brain_tumor_dataset/yes/Y44.JPG  \n",
            "  inflating: /content/brain_tumor_dataset/brain_tumor_dataset/yes/Y45.JPG  \n",
            "  inflating: /content/brain_tumor_dataset/brain_tumor_dataset/yes/Y46.jpg  \n",
            "  inflating: /content/brain_tumor_dataset/brain_tumor_dataset/yes/Y47.JPG  \n",
            "  inflating: /content/brain_tumor_dataset/brain_tumor_dataset/yes/Y49.JPG  \n",
            "  inflating: /content/brain_tumor_dataset/brain_tumor_dataset/yes/Y50.JPG  \n",
            "  inflating: /content/brain_tumor_dataset/brain_tumor_dataset/yes/Y51.jpg  \n",
            "  inflating: /content/brain_tumor_dataset/brain_tumor_dataset/yes/Y52.jpg  \n",
            "  inflating: /content/brain_tumor_dataset/brain_tumor_dataset/yes/Y53.jpg  \n",
            "  inflating: /content/brain_tumor_dataset/brain_tumor_dataset/yes/Y54.jpg  \n",
            "  inflating: /content/brain_tumor_dataset/brain_tumor_dataset/yes/Y55.jpg  \n",
            "  inflating: /content/brain_tumor_dataset/brain_tumor_dataset/yes/Y56.jpg  \n",
            "  inflating: /content/brain_tumor_dataset/brain_tumor_dataset/yes/Y58.JPG  \n",
            "  inflating: /content/brain_tumor_dataset/brain_tumor_dataset/yes/Y59.JPG  \n",
            "  inflating: /content/brain_tumor_dataset/brain_tumor_dataset/yes/Y6.jpg  \n",
            "  inflating: /content/brain_tumor_dataset/brain_tumor_dataset/yes/Y60.jpg  \n",
            "  inflating: /content/brain_tumor_dataset/brain_tumor_dataset/yes/Y61.jpg  \n",
            "  inflating: /content/brain_tumor_dataset/brain_tumor_dataset/yes/Y62.jpg  \n",
            "  inflating: /content/brain_tumor_dataset/brain_tumor_dataset/yes/Y65.JPG  \n",
            "  inflating: /content/brain_tumor_dataset/brain_tumor_dataset/yes/Y66.JPG  \n",
            "  inflating: /content/brain_tumor_dataset/brain_tumor_dataset/yes/Y67.JPG  \n",
            "  inflating: /content/brain_tumor_dataset/brain_tumor_dataset/yes/Y69.jpg  \n",
            "  inflating: /content/brain_tumor_dataset/brain_tumor_dataset/yes/Y7.jpg  \n",
            "  inflating: /content/brain_tumor_dataset/brain_tumor_dataset/yes/Y70.jpg  \n",
            "  inflating: /content/brain_tumor_dataset/brain_tumor_dataset/yes/Y71.JPG  \n",
            "  inflating: /content/brain_tumor_dataset/brain_tumor_dataset/yes/Y73.jpg  \n",
            "  inflating: /content/brain_tumor_dataset/brain_tumor_dataset/yes/Y74.jpg  \n",
            "  inflating: /content/brain_tumor_dataset/brain_tumor_dataset/yes/Y75.JPG  \n",
            "  inflating: /content/brain_tumor_dataset/brain_tumor_dataset/yes/Y76.jpg  \n",
            "  inflating: /content/brain_tumor_dataset/brain_tumor_dataset/yes/Y77.jpg  \n",
            "  inflating: /content/brain_tumor_dataset/brain_tumor_dataset/yes/Y78.jpg  \n",
            "  inflating: /content/brain_tumor_dataset/brain_tumor_dataset/yes/Y79.jpg  \n",
            "  inflating: /content/brain_tumor_dataset/brain_tumor_dataset/yes/Y8.jpg  \n",
            "  inflating: /content/brain_tumor_dataset/brain_tumor_dataset/yes/Y81.jpg  \n",
            "  inflating: /content/brain_tumor_dataset/brain_tumor_dataset/yes/Y82.jpg  \n",
            "  inflating: /content/brain_tumor_dataset/brain_tumor_dataset/yes/Y85.JPG  \n",
            "  inflating: /content/brain_tumor_dataset/brain_tumor_dataset/yes/Y86.JPG  \n",
            "  inflating: /content/brain_tumor_dataset/brain_tumor_dataset/yes/Y89.JPG  \n",
            "  inflating: /content/brain_tumor_dataset/brain_tumor_dataset/yes/Y9.jpg  \n",
            "  inflating: /content/brain_tumor_dataset/brain_tumor_dataset/yes/Y90.jpg  \n",
            "  inflating: /content/brain_tumor_dataset/brain_tumor_dataset/yes/Y91.jpg  \n",
            "  inflating: /content/brain_tumor_dataset/brain_tumor_dataset/yes/Y92.jpg  \n",
            "  inflating: /content/brain_tumor_dataset/brain_tumor_dataset/yes/Y92.png  \n",
            "  inflating: /content/brain_tumor_dataset/brain_tumor_dataset/yes/Y95.jpg  \n",
            "  inflating: /content/brain_tumor_dataset/brain_tumor_dataset/yes/Y96.jpg  \n",
            "  inflating: /content/brain_tumor_dataset/brain_tumor_dataset/yes/Y97.JPG  \n",
            "  inflating: /content/brain_tumor_dataset/brain_tumor_dataset/yes/Y98.JPG  \n",
            "  inflating: /content/brain_tumor_dataset/brain_tumor_dataset/yes/Y99.JPG  \n",
            "  inflating: /content/brain_tumor_dataset/no/1 no.jpeg  \n",
            "  inflating: /content/brain_tumor_dataset/no/10 no.jpg  \n",
            "  inflating: /content/brain_tumor_dataset/no/11 no.jpg  \n",
            "  inflating: /content/brain_tumor_dataset/no/12 no.jpg  \n",
            "  inflating: /content/brain_tumor_dataset/no/13 no.jpg  \n",
            "  inflating: /content/brain_tumor_dataset/no/14 no.jpg  \n",
            "  inflating: /content/brain_tumor_dataset/no/15 no.jpg  \n",
            "  inflating: /content/brain_tumor_dataset/no/17 no.jpg  \n",
            "  inflating: /content/brain_tumor_dataset/no/18 no.jpg  \n",
            "  inflating: /content/brain_tumor_dataset/no/19 no.jpg  \n",
            "  inflating: /content/brain_tumor_dataset/no/2 no.jpeg  \n",
            "  inflating: /content/brain_tumor_dataset/no/20 no.jpg  \n",
            "  inflating: /content/brain_tumor_dataset/no/21 no.jpg  \n",
            "  inflating: /content/brain_tumor_dataset/no/22 no.jpg  \n",
            "  inflating: /content/brain_tumor_dataset/no/23 no.jpg  \n",
            "  inflating: /content/brain_tumor_dataset/no/24 no.jpg  \n",
            "  inflating: /content/brain_tumor_dataset/no/25 no.jpg  \n",
            "  inflating: /content/brain_tumor_dataset/no/26 no.jpg  \n",
            "  inflating: /content/brain_tumor_dataset/no/27 no.jpg  \n",
            "  inflating: /content/brain_tumor_dataset/no/28 no.jpg  \n",
            "  inflating: /content/brain_tumor_dataset/no/29 no.jpg  \n",
            "  inflating: /content/brain_tumor_dataset/no/3 no.jpg  \n",
            "  inflating: /content/brain_tumor_dataset/no/30 no.jpg  \n",
            "  inflating: /content/brain_tumor_dataset/no/31 no.jpg  \n",
            "  inflating: /content/brain_tumor_dataset/no/32 no.jpg  \n",
            "  inflating: /content/brain_tumor_dataset/no/33 no.jpg  \n",
            "  inflating: /content/brain_tumor_dataset/no/34 no.jpg  \n",
            "  inflating: /content/brain_tumor_dataset/no/35 no.jpg  \n",
            "  inflating: /content/brain_tumor_dataset/no/36 no.jpg  \n",
            "  inflating: /content/brain_tumor_dataset/no/37 no.jpg  \n",
            "  inflating: /content/brain_tumor_dataset/no/38 no.jpg  \n",
            "  inflating: /content/brain_tumor_dataset/no/39 no.jpg  \n",
            "  inflating: /content/brain_tumor_dataset/no/4 no.jpg  \n",
            "  inflating: /content/brain_tumor_dataset/no/40 no.jpg  \n",
            "  inflating: /content/brain_tumor_dataset/no/41 no.jpg  \n",
            "  inflating: /content/brain_tumor_dataset/no/42 no.jpg  \n",
            "  inflating: /content/brain_tumor_dataset/no/43 no.jpg  \n",
            "  inflating: /content/brain_tumor_dataset/no/44no.jpg  \n",
            "  inflating: /content/brain_tumor_dataset/no/45 no.jpg  \n",
            "  inflating: /content/brain_tumor_dataset/no/46 no.jpg  \n",
            "  inflating: /content/brain_tumor_dataset/no/47 no.jpg  \n",
            "  inflating: /content/brain_tumor_dataset/no/48 no.jpeg  \n",
            "  inflating: /content/brain_tumor_dataset/no/49 no.jpg  \n",
            "  inflating: /content/brain_tumor_dataset/no/5 no.jpg  \n",
            "  inflating: /content/brain_tumor_dataset/no/50 no.jpg  \n",
            "  inflating: /content/brain_tumor_dataset/no/6 no.jpg  \n",
            "  inflating: /content/brain_tumor_dataset/no/7 no.jpg  \n",
            "  inflating: /content/brain_tumor_dataset/no/8 no.jpg  \n",
            "  inflating: /content/brain_tumor_dataset/no/9 no.jpg  \n",
            "  inflating: /content/brain_tumor_dataset/no/N1.JPG  \n",
            "  inflating: /content/brain_tumor_dataset/no/N11.jpg  \n",
            "  inflating: /content/brain_tumor_dataset/no/N15.jpg  \n",
            "  inflating: /content/brain_tumor_dataset/no/N16.jpg  \n",
            "  inflating: /content/brain_tumor_dataset/no/N17.jpg  \n",
            "  inflating: /content/brain_tumor_dataset/no/N19.JPG  \n",
            "  inflating: /content/brain_tumor_dataset/no/N2.JPG  \n",
            "  inflating: /content/brain_tumor_dataset/no/N20.JPG  \n",
            "  inflating: /content/brain_tumor_dataset/no/N21.jpg  \n",
            "  inflating: /content/brain_tumor_dataset/no/N22.JPG  \n",
            "  inflating: /content/brain_tumor_dataset/no/N26.JPG  \n",
            "  inflating: /content/brain_tumor_dataset/no/N3.jpg  \n",
            "  inflating: /content/brain_tumor_dataset/no/N5.jpg  \n",
            "  inflating: /content/brain_tumor_dataset/no/N6.jpg  \n",
            "  inflating: /content/brain_tumor_dataset/no/No11.jpg  \n",
            "  inflating: /content/brain_tumor_dataset/no/No12.jpg  \n",
            "  inflating: /content/brain_tumor_dataset/no/No13.jpg  \n",
            "  inflating: /content/brain_tumor_dataset/no/No14.jpg  \n",
            "  inflating: /content/brain_tumor_dataset/no/No15.jpg  \n",
            "  inflating: /content/brain_tumor_dataset/no/No16.jpg  \n",
            "  inflating: /content/brain_tumor_dataset/no/No17.jpg  \n",
            "  inflating: /content/brain_tumor_dataset/no/No18.jpg  \n",
            "  inflating: /content/brain_tumor_dataset/no/No19.jpg  \n",
            "  inflating: /content/brain_tumor_dataset/no/No20.jpg  \n",
            "  inflating: /content/brain_tumor_dataset/no/No21.jpg  \n",
            "  inflating: /content/brain_tumor_dataset/no/No22.jpg  \n",
            "  inflating: /content/brain_tumor_dataset/no/no 1.jpg  \n",
            "  inflating: /content/brain_tumor_dataset/no/no 10.jpg  \n",
            "  inflating: /content/brain_tumor_dataset/no/no 100.jpg  \n",
            "  inflating: /content/brain_tumor_dataset/no/no 2.jpg  \n",
            "  inflating: /content/brain_tumor_dataset/no/no 3.jpg  \n",
            "  inflating: /content/brain_tumor_dataset/no/no 4.jpg  \n",
            "  inflating: /content/brain_tumor_dataset/no/no 5.jpeg  \n",
            "  inflating: /content/brain_tumor_dataset/no/no 6.jpg  \n",
            "  inflating: /content/brain_tumor_dataset/no/no 7.jpeg  \n",
            "  inflating: /content/brain_tumor_dataset/no/no 8.jpg  \n",
            "  inflating: /content/brain_tumor_dataset/no/no 89.jpg  \n",
            "  inflating: /content/brain_tumor_dataset/no/no 9.png  \n",
            "  inflating: /content/brain_tumor_dataset/no/no 90.jpg  \n",
            "  inflating: /content/brain_tumor_dataset/no/no 91.jpeg  \n",
            "  inflating: /content/brain_tumor_dataset/no/no 92.jpg  \n",
            "  inflating: /content/brain_tumor_dataset/no/no 923.jpg  \n",
            "  inflating: /content/brain_tumor_dataset/no/no 94.jpg  \n",
            "  inflating: /content/brain_tumor_dataset/no/no 95.jpg  \n",
            "  inflating: /content/brain_tumor_dataset/no/no 96.jpg  \n",
            "  inflating: /content/brain_tumor_dataset/no/no 97.jpg  \n",
            "  inflating: /content/brain_tumor_dataset/no/no 98.jpg  \n",
            "  inflating: /content/brain_tumor_dataset/no/no 99.jpg  \n",
            "  inflating: /content/brain_tumor_dataset/no/no.jpg  \n",
            "  inflating: /content/brain_tumor_dataset/yes/Y1.jpg  \n",
            "  inflating: /content/brain_tumor_dataset/yes/Y10.jpg  \n",
            "  inflating: /content/brain_tumor_dataset/yes/Y100.JPG  \n",
            "  inflating: /content/brain_tumor_dataset/yes/Y101.jpg  \n",
            "  inflating: /content/brain_tumor_dataset/yes/Y102.jpg  \n",
            "  inflating: /content/brain_tumor_dataset/yes/Y103.jpg  \n",
            "  inflating: /content/brain_tumor_dataset/yes/Y104.jpg  \n",
            "  inflating: /content/brain_tumor_dataset/yes/Y105.jpg  \n",
            "  inflating: /content/brain_tumor_dataset/yes/Y106.jpg  \n",
            "  inflating: /content/brain_tumor_dataset/yes/Y107.jpg  \n",
            "  inflating: /content/brain_tumor_dataset/yes/Y108.jpg  \n",
            "  inflating: /content/brain_tumor_dataset/yes/Y109.JPG  \n",
            "  inflating: /content/brain_tumor_dataset/yes/Y11.jpg  \n",
            "  inflating: /content/brain_tumor_dataset/yes/Y111.JPG  \n",
            "  inflating: /content/brain_tumor_dataset/yes/Y112.JPG  \n",
            "  inflating: /content/brain_tumor_dataset/yes/Y113.JPG  \n",
            "  inflating: /content/brain_tumor_dataset/yes/Y114.JPG  \n",
            "  inflating: /content/brain_tumor_dataset/yes/Y115.JPG  \n",
            "  inflating: /content/brain_tumor_dataset/yes/Y116.JPG  \n",
            "  inflating: /content/brain_tumor_dataset/yes/Y117.JPG  \n",
            "  inflating: /content/brain_tumor_dataset/yes/Y12.jpg  \n",
            "  inflating: /content/brain_tumor_dataset/yes/Y120.JPG  \n",
            "  inflating: /content/brain_tumor_dataset/yes/Y13.jpg  \n",
            "  inflating: /content/brain_tumor_dataset/yes/Y14.jpg  \n",
            "  inflating: /content/brain_tumor_dataset/yes/Y146.JPG  \n",
            "  inflating: /content/brain_tumor_dataset/yes/Y147.JPG  \n",
            "  inflating: /content/brain_tumor_dataset/yes/Y148.JPG  \n",
            "  inflating: /content/brain_tumor_dataset/yes/Y15.jpg  \n",
            "  inflating: /content/brain_tumor_dataset/yes/Y153.jpg  \n",
            "  inflating: /content/brain_tumor_dataset/yes/Y154.jpg  \n",
            "  inflating: /content/brain_tumor_dataset/yes/Y155.JPG  \n",
            "  inflating: /content/brain_tumor_dataset/yes/Y156.JPG  \n",
            "  inflating: /content/brain_tumor_dataset/yes/Y157.JPG  \n",
            "  inflating: /content/brain_tumor_dataset/yes/Y158.JPG  \n",
            "  inflating: /content/brain_tumor_dataset/yes/Y159.JPG  \n",
            "  inflating: /content/brain_tumor_dataset/yes/Y16.JPG  \n",
            "  inflating: /content/brain_tumor_dataset/yes/Y160.JPG  \n",
            "  inflating: /content/brain_tumor_dataset/yes/Y161.JPG  \n",
            "  inflating: /content/brain_tumor_dataset/yes/Y162.jpg  \n",
            "  inflating: /content/brain_tumor_dataset/yes/Y163.JPG  \n",
            "  inflating: /content/brain_tumor_dataset/yes/Y164.JPG  \n",
            "  inflating: /content/brain_tumor_dataset/yes/Y165.JPG  \n",
            "  inflating: /content/brain_tumor_dataset/yes/Y166.JPG  \n",
            "  inflating: /content/brain_tumor_dataset/yes/Y167.JPG  \n",
            "  inflating: /content/brain_tumor_dataset/yes/Y168.jpg  \n",
            "  inflating: /content/brain_tumor_dataset/yes/Y169.jpg  \n",
            "  inflating: /content/brain_tumor_dataset/yes/Y17.jpg  \n",
            "  inflating: /content/brain_tumor_dataset/yes/Y170.JPG  \n",
            "  inflating: /content/brain_tumor_dataset/yes/Y18.JPG  \n",
            "  inflating: /content/brain_tumor_dataset/yes/Y180.jpg  \n",
            "  inflating: /content/brain_tumor_dataset/yes/Y181.jpg  \n",
            "  inflating: /content/brain_tumor_dataset/yes/Y182.JPG  \n",
            "  inflating: /content/brain_tumor_dataset/yes/Y183.jpg  \n",
            "  inflating: /content/brain_tumor_dataset/yes/Y184.JPG  \n",
            "  inflating: /content/brain_tumor_dataset/yes/Y185.jpg  \n",
            "  inflating: /content/brain_tumor_dataset/yes/Y186.jpg  \n",
            "  inflating: /content/brain_tumor_dataset/yes/Y187.jpg  \n",
            "  inflating: /content/brain_tumor_dataset/yes/Y188.jpg  \n",
            "  inflating: /content/brain_tumor_dataset/yes/Y19.JPG  \n",
            "  inflating: /content/brain_tumor_dataset/yes/Y192.JPG  \n",
            "  inflating: /content/brain_tumor_dataset/yes/Y193.JPG  \n",
            "  inflating: /content/brain_tumor_dataset/yes/Y194.jpg  \n",
            "  inflating: /content/brain_tumor_dataset/yes/Y195.JPG  \n",
            "  inflating: /content/brain_tumor_dataset/yes/Y2.jpg  \n",
            "  inflating: /content/brain_tumor_dataset/yes/Y20.jpg  \n",
            "  inflating: /content/brain_tumor_dataset/yes/Y21.jpg  \n",
            "  inflating: /content/brain_tumor_dataset/yes/Y22.jpg  \n",
            "  inflating: /content/brain_tumor_dataset/yes/Y23.JPG  \n",
            "  inflating: /content/brain_tumor_dataset/yes/Y24.jpg  \n",
            "  inflating: /content/brain_tumor_dataset/yes/Y242.JPG  \n",
            "  inflating: /content/brain_tumor_dataset/yes/Y243.JPG  \n",
            "  inflating: /content/brain_tumor_dataset/yes/Y244.JPG  \n",
            "  inflating: /content/brain_tumor_dataset/yes/Y245.jpg  \n",
            "  inflating: /content/brain_tumor_dataset/yes/Y246.JPG  \n",
            "  inflating: /content/brain_tumor_dataset/yes/Y247.JPG  \n",
            "  inflating: /content/brain_tumor_dataset/yes/Y248.JPG  \n",
            "  inflating: /content/brain_tumor_dataset/yes/Y249.JPG  \n",
            "  inflating: /content/brain_tumor_dataset/yes/Y25.jpg  \n",
            "  inflating: /content/brain_tumor_dataset/yes/Y250.jpg  \n",
            "  inflating: /content/brain_tumor_dataset/yes/Y251.JPG  \n",
            "  inflating: /content/brain_tumor_dataset/yes/Y252.jpg  \n",
            "  inflating: /content/brain_tumor_dataset/yes/Y253.JPG  \n",
            "  inflating: /content/brain_tumor_dataset/yes/Y254.jpg  \n",
            "  inflating: /content/brain_tumor_dataset/yes/Y255.JPG  \n",
            "  inflating: /content/brain_tumor_dataset/yes/Y256.JPG  \n",
            "  inflating: /content/brain_tumor_dataset/yes/Y257.jpg  \n",
            "  inflating: /content/brain_tumor_dataset/yes/Y258.JPG  \n",
            "  inflating: /content/brain_tumor_dataset/yes/Y259.JPG  \n",
            "  inflating: /content/brain_tumor_dataset/yes/Y26.jpg  \n",
            "  inflating: /content/brain_tumor_dataset/yes/Y27.jpg  \n",
            "  inflating: /content/brain_tumor_dataset/yes/Y28.jpg  \n",
            "  inflating: /content/brain_tumor_dataset/yes/Y29.jpg  \n",
            "  inflating: /content/brain_tumor_dataset/yes/Y3.jpg  \n",
            "  inflating: /content/brain_tumor_dataset/yes/Y30.jpg  \n",
            "  inflating: /content/brain_tumor_dataset/yes/Y31.jpg  \n",
            "  inflating: /content/brain_tumor_dataset/yes/Y32.jpg  \n",
            "  inflating: /content/brain_tumor_dataset/yes/Y33.jpg  \n",
            "  inflating: /content/brain_tumor_dataset/yes/Y34.jpg  \n",
            "  inflating: /content/brain_tumor_dataset/yes/Y35.jpg  \n",
            "  inflating: /content/brain_tumor_dataset/yes/Y36.JPG  \n",
            "  inflating: /content/brain_tumor_dataset/yes/Y37.jpg  \n",
            "  inflating: /content/brain_tumor_dataset/yes/Y38.jpg  \n",
            "  inflating: /content/brain_tumor_dataset/yes/Y39.jpg  \n",
            "  inflating: /content/brain_tumor_dataset/yes/Y4.jpg  \n",
            "  inflating: /content/brain_tumor_dataset/yes/Y40.JPG  \n",
            "  inflating: /content/brain_tumor_dataset/yes/Y41.jpg  \n",
            "  inflating: /content/brain_tumor_dataset/yes/Y42.jpg  \n",
            "  inflating: /content/brain_tumor_dataset/yes/Y44.JPG  \n",
            "  inflating: /content/brain_tumor_dataset/yes/Y45.JPG  \n",
            "  inflating: /content/brain_tumor_dataset/yes/Y46.jpg  \n",
            "  inflating: /content/brain_tumor_dataset/yes/Y47.JPG  \n",
            "  inflating: /content/brain_tumor_dataset/yes/Y49.JPG  \n",
            "  inflating: /content/brain_tumor_dataset/yes/Y50.JPG  \n",
            "  inflating: /content/brain_tumor_dataset/yes/Y51.jpg  \n",
            "  inflating: /content/brain_tumor_dataset/yes/Y52.jpg  \n",
            "  inflating: /content/brain_tumor_dataset/yes/Y53.jpg  \n",
            "  inflating: /content/brain_tumor_dataset/yes/Y54.jpg  \n",
            "  inflating: /content/brain_tumor_dataset/yes/Y55.jpg  \n",
            "  inflating: /content/brain_tumor_dataset/yes/Y56.jpg  \n",
            "  inflating: /content/brain_tumor_dataset/yes/Y58.JPG  \n",
            "  inflating: /content/brain_tumor_dataset/yes/Y59.JPG  \n",
            "  inflating: /content/brain_tumor_dataset/yes/Y6.jpg  \n",
            "  inflating: /content/brain_tumor_dataset/yes/Y60.jpg  \n",
            "  inflating: /content/brain_tumor_dataset/yes/Y61.jpg  \n",
            "  inflating: /content/brain_tumor_dataset/yes/Y62.jpg  \n",
            "  inflating: /content/brain_tumor_dataset/yes/Y65.JPG  \n",
            "  inflating: /content/brain_tumor_dataset/yes/Y66.JPG  \n",
            "  inflating: /content/brain_tumor_dataset/yes/Y67.JPG  \n",
            "  inflating: /content/brain_tumor_dataset/yes/Y69.jpg  \n",
            "  inflating: /content/brain_tumor_dataset/yes/Y7.jpg  \n",
            "  inflating: /content/brain_tumor_dataset/yes/Y70.jpg  \n",
            "  inflating: /content/brain_tumor_dataset/yes/Y71.JPG  \n",
            "  inflating: /content/brain_tumor_dataset/yes/Y73.jpg  \n",
            "  inflating: /content/brain_tumor_dataset/yes/Y74.jpg  \n",
            "  inflating: /content/brain_tumor_dataset/yes/Y75.JPG  \n",
            "  inflating: /content/brain_tumor_dataset/yes/Y76.jpg  \n",
            "  inflating: /content/brain_tumor_dataset/yes/Y77.jpg  \n",
            "  inflating: /content/brain_tumor_dataset/yes/Y78.jpg  \n",
            "  inflating: /content/brain_tumor_dataset/yes/Y79.jpg  \n",
            "  inflating: /content/brain_tumor_dataset/yes/Y8.jpg  \n",
            "  inflating: /content/brain_tumor_dataset/yes/Y81.jpg  \n",
            "  inflating: /content/brain_tumor_dataset/yes/Y82.jpg  \n",
            "  inflating: /content/brain_tumor_dataset/yes/Y85.JPG  \n",
            "  inflating: /content/brain_tumor_dataset/yes/Y86.JPG  \n",
            "  inflating: /content/brain_tumor_dataset/yes/Y89.JPG  \n",
            "  inflating: /content/brain_tumor_dataset/yes/Y9.jpg  \n",
            "  inflating: /content/brain_tumor_dataset/yes/Y90.jpg  \n",
            "  inflating: /content/brain_tumor_dataset/yes/Y91.jpg  \n",
            "  inflating: /content/brain_tumor_dataset/yes/Y92.jpg  \n",
            "  inflating: /content/brain_tumor_dataset/yes/Y92.png  \n",
            "  inflating: /content/brain_tumor_dataset/yes/Y95.jpg  \n",
            "  inflating: /content/brain_tumor_dataset/yes/Y96.jpg  \n",
            "  inflating: /content/brain_tumor_dataset/yes/Y97.JPG  \n",
            "  inflating: /content/brain_tumor_dataset/yes/Y98.JPG  \n",
            "  inflating: /content/brain_tumor_dataset/yes/Y99.JPG  \n"
          ]
        }
      ],
      "source": [
        "!unzip -o /content/brain-mri-images-for-brain-tumor-detection.zip -d /content/brain_tumor_dataset\n"
      ]
    },
    {
      "cell_type": "code",
      "execution_count": null,
      "metadata": {
        "colab": {
          "base_uri": "https://localhost:8080/"
        },
        "id": "LbV2wwE9zGm-",
        "outputId": "3542ac1a-b929-4cdf-9738-41c9ce2f059b"
      },
      "outputs": [
        {
          "name": "stdout",
          "output_type": "stream",
          "text": [
            "brain_tumor_dataset  no  yes\n"
          ]
        }
      ],
      "source": [
        "!ls /content/brain_tumor_dataset\n"
      ]
    },
    {
      "cell_type": "code",
      "execution_count": null,
      "metadata": {
        "colab": {
          "base_uri": "https://localhost:8080/"
        },
        "id": "4E-hWszHzIeZ",
        "outputId": "5d65277d-68a6-4563-84b7-d0bd979862b0"
      },
      "outputs": [
        {
          "name": "stdout",
          "output_type": "stream",
          "text": [
            "/content/brain_tumor_dataset:\n",
            "brain_tumor_dataset  no  yes\n",
            "\n",
            "/content/brain_tumor_dataset/brain_tumor_dataset:\n",
            "no  yes\n",
            "\n",
            "/content/brain_tumor_dataset/brain_tumor_dataset/no:\n",
            "'10 no.jpg'  '24 no.jpg'  '37 no.jpg'\t'4 no.jpg'    N21.jpg\t    No16.jpg\t'no 89.jpg'\n",
            "'11 no.jpg'  '25 no.jpg'  '38 no.jpg'\t'50 no.jpg'   N22.JPG\t    No17.jpg\t'no 8.jpg'\n",
            "'12 no.jpg'  '26 no.jpg'  '39 no.jpg'\t'5 no.jpg'    N26.JPG\t    No18.jpg\t'no 90.jpg'\n",
            "'13 no.jpg'  '27 no.jpg'  '3 no.jpg'\t'6 no.jpg'    N2.JPG\t    No19.jpg\t'no 91.jpeg'\n",
            "'14 no.jpg'  '28 no.jpg'  '40 no.jpg'\t'7 no.jpg'    N3.jpg\t   'no 1.jpg'\t'no 923.jpg'\n",
            "'15 no.jpg'  '29 no.jpg'  '41 no.jpg'\t'8 no.jpg'    N5.jpg\t    No20.jpg\t'no 92.jpg'\n",
            "'17 no.jpg'  '2 no.jpeg'  '42 no.jpg'\t'9 no.jpg'    N6.jpg\t    No21.jpg\t'no 94.jpg'\n",
            "'18 no.jpg'  '30 no.jpg'  '43 no.jpg'\t N11.jpg     'no 100.jpg'   No22.jpg\t'no 95.jpg'\n",
            "'19 no.jpg'  '31 no.jpg'   44no.jpg\t N15.jpg     'no 10.jpg'   'no 2.jpg'\t'no 96.jpg'\n",
            "'1 no.jpeg'  '32 no.jpg'  '45 no.jpg'\t N16.jpg      No11.jpg\t   'no 3.jpg'\t'no 97.jpg'\n",
            "'20 no.jpg'  '33 no.jpg'  '46 no.jpg'\t N17.jpg      No12.jpg\t   'no 4.jpg'\t'no 98.jpg'\n",
            "'21 no.jpg'  '34 no.jpg'  '47 no.jpg'\t N19.JPG      No13.jpg\t   'no 5.jpeg'\t'no 99.jpg'\n",
            "'22 no.jpg'  '35 no.jpg'  '48 no.jpeg'\t N1.JPG       No14.jpg\t   'no 6.jpg'\t'no 9.png'\n",
            "'23 no.jpg'  '36 no.jpg'  '49 no.jpg'\t N20.JPG      No15.jpg\t   'no 7.jpeg'\t no.jpg\n",
            "\n",
            "/content/brain_tumor_dataset/brain_tumor_dataset/yes:\n",
            "Y100.JPG  Y116.JPG  Y159.JPG  Y181.jpg\tY21.jpg   Y254.jpg  Y34.jpg  Y50.JPG  Y6.jpg   Y8.jpg\n",
            "Y101.jpg  Y117.JPG  Y15.jpg   Y182.JPG\tY22.jpg   Y255.JPG  Y35.jpg  Y51.jpg  Y70.jpg  Y90.jpg\n",
            "Y102.jpg  Y11.jpg   Y160.JPG  Y183.jpg\tY23.JPG   Y256.JPG  Y36.JPG  Y52.jpg  Y71.JPG  Y91.jpg\n",
            "Y103.jpg  Y120.JPG  Y161.JPG  Y184.JPG\tY242.JPG  Y257.jpg  Y37.jpg  Y53.jpg  Y73.jpg  Y92.jpg\n",
            "Y104.jpg  Y12.jpg   Y162.jpg  Y185.jpg\tY243.JPG  Y258.JPG  Y38.jpg  Y54.jpg  Y74.jpg  Y92.png\n",
            "Y105.jpg  Y13.jpg   Y163.JPG  Y186.jpg\tY244.JPG  Y259.JPG  Y39.jpg  Y55.jpg  Y75.JPG  Y95.jpg\n",
            "Y106.jpg  Y146.JPG  Y164.JPG  Y187.jpg\tY245.jpg  Y25.jpg   Y3.jpg   Y56.jpg  Y76.jpg  Y96.jpg\n",
            "Y107.jpg  Y147.JPG  Y165.JPG  Y188.jpg\tY246.JPG  Y26.jpg   Y40.JPG  Y58.JPG  Y77.jpg  Y97.JPG\n",
            "Y108.jpg  Y148.JPG  Y166.JPG  Y18.JPG\tY247.JPG  Y27.jpg   Y41.jpg  Y59.JPG  Y78.jpg  Y98.JPG\n",
            "Y109.JPG  Y14.jpg   Y167.JPG  Y192.JPG\tY248.JPG  Y28.jpg   Y42.jpg  Y60.jpg  Y79.jpg  Y99.JPG\n",
            "Y10.jpg   Y153.jpg  Y168.jpg  Y193.JPG\tY249.JPG  Y29.jpg   Y44.JPG  Y61.jpg  Y7.jpg   Y9.jpg\n",
            "Y111.JPG  Y154.jpg  Y169.jpg  Y194.jpg\tY24.jpg   Y2.jpg    Y45.JPG  Y62.jpg  Y81.jpg\n",
            "Y112.JPG  Y155.JPG  Y16.JPG   Y195.JPG\tY250.jpg  Y30.jpg   Y46.jpg  Y65.JPG  Y82.jpg\n",
            "Y113.JPG  Y156.JPG  Y170.JPG  Y19.JPG\tY251.JPG  Y31.jpg   Y47.JPG  Y66.JPG  Y85.JPG\n",
            "Y114.JPG  Y157.JPG  Y17.jpg   Y1.jpg\tY252.jpg  Y32.jpg   Y49.JPG  Y67.JPG  Y86.JPG\n",
            "Y115.JPG  Y158.JPG  Y180.jpg  Y20.jpg\tY253.JPG  Y33.jpg   Y4.jpg   Y69.jpg  Y89.JPG\n",
            "\n",
            "/content/brain_tumor_dataset/no:\n",
            "'10 no.jpg'  '24 no.jpg'  '37 no.jpg'\t'4 no.jpg'    N21.jpg\t    No16.jpg\t'no 89.jpg'\n",
            "'11 no.jpg'  '25 no.jpg'  '38 no.jpg'\t'50 no.jpg'   N22.JPG\t    No17.jpg\t'no 8.jpg'\n",
            "'12 no.jpg'  '26 no.jpg'  '39 no.jpg'\t'5 no.jpg'    N26.JPG\t    No18.jpg\t'no 90.jpg'\n",
            "'13 no.jpg'  '27 no.jpg'  '3 no.jpg'\t'6 no.jpg'    N2.JPG\t    No19.jpg\t'no 91.jpeg'\n",
            "'14 no.jpg'  '28 no.jpg'  '40 no.jpg'\t'7 no.jpg'    N3.jpg\t   'no 1.jpg'\t'no 923.jpg'\n",
            "'15 no.jpg'  '29 no.jpg'  '41 no.jpg'\t'8 no.jpg'    N5.jpg\t    No20.jpg\t'no 92.jpg'\n",
            "'17 no.jpg'  '2 no.jpeg'  '42 no.jpg'\t'9 no.jpg'    N6.jpg\t    No21.jpg\t'no 94.jpg'\n",
            "'18 no.jpg'  '30 no.jpg'  '43 no.jpg'\t N11.jpg     'no 100.jpg'   No22.jpg\t'no 95.jpg'\n",
            "'19 no.jpg'  '31 no.jpg'   44no.jpg\t N15.jpg     'no 10.jpg'   'no 2.jpg'\t'no 96.jpg'\n",
            "'1 no.jpeg'  '32 no.jpg'  '45 no.jpg'\t N16.jpg      No11.jpg\t   'no 3.jpg'\t'no 97.jpg'\n",
            "'20 no.jpg'  '33 no.jpg'  '46 no.jpg'\t N17.jpg      No12.jpg\t   'no 4.jpg'\t'no 98.jpg'\n",
            "'21 no.jpg'  '34 no.jpg'  '47 no.jpg'\t N19.JPG      No13.jpg\t   'no 5.jpeg'\t'no 99.jpg'\n",
            "'22 no.jpg'  '35 no.jpg'  '48 no.jpeg'\t N1.JPG       No14.jpg\t   'no 6.jpg'\t'no 9.png'\n",
            "'23 no.jpg'  '36 no.jpg'  '49 no.jpg'\t N20.JPG      No15.jpg\t   'no 7.jpeg'\t no.jpg\n",
            "\n",
            "/content/brain_tumor_dataset/yes:\n",
            "Y100.JPG  Y116.JPG  Y159.JPG  Y181.jpg\tY21.jpg   Y254.jpg  Y34.jpg  Y50.JPG  Y6.jpg   Y8.jpg\n",
            "Y101.jpg  Y117.JPG  Y15.jpg   Y182.JPG\tY22.jpg   Y255.JPG  Y35.jpg  Y51.jpg  Y70.jpg  Y90.jpg\n",
            "Y102.jpg  Y11.jpg   Y160.JPG  Y183.jpg\tY23.JPG   Y256.JPG  Y36.JPG  Y52.jpg  Y71.JPG  Y91.jpg\n",
            "Y103.jpg  Y120.JPG  Y161.JPG  Y184.JPG\tY242.JPG  Y257.jpg  Y37.jpg  Y53.jpg  Y73.jpg  Y92.jpg\n",
            "Y104.jpg  Y12.jpg   Y162.jpg  Y185.jpg\tY243.JPG  Y258.JPG  Y38.jpg  Y54.jpg  Y74.jpg  Y92.png\n",
            "Y105.jpg  Y13.jpg   Y163.JPG  Y186.jpg\tY244.JPG  Y259.JPG  Y39.jpg  Y55.jpg  Y75.JPG  Y95.jpg\n",
            "Y106.jpg  Y146.JPG  Y164.JPG  Y187.jpg\tY245.jpg  Y25.jpg   Y3.jpg   Y56.jpg  Y76.jpg  Y96.jpg\n",
            "Y107.jpg  Y147.JPG  Y165.JPG  Y188.jpg\tY246.JPG  Y26.jpg   Y40.JPG  Y58.JPG  Y77.jpg  Y97.JPG\n",
            "Y108.jpg  Y148.JPG  Y166.JPG  Y18.JPG\tY247.JPG  Y27.jpg   Y41.jpg  Y59.JPG  Y78.jpg  Y98.JPG\n",
            "Y109.JPG  Y14.jpg   Y167.JPG  Y192.JPG\tY248.JPG  Y28.jpg   Y42.jpg  Y60.jpg  Y79.jpg  Y99.JPG\n",
            "Y10.jpg   Y153.jpg  Y168.jpg  Y193.JPG\tY249.JPG  Y29.jpg   Y44.JPG  Y61.jpg  Y7.jpg   Y9.jpg\n",
            "Y111.JPG  Y154.jpg  Y169.jpg  Y194.jpg\tY24.jpg   Y2.jpg    Y45.JPG  Y62.jpg  Y81.jpg\n",
            "Y112.JPG  Y155.JPG  Y16.JPG   Y195.JPG\tY250.jpg  Y30.jpg   Y46.jpg  Y65.JPG  Y82.jpg\n",
            "Y113.JPG  Y156.JPG  Y170.JPG  Y19.JPG\tY251.JPG  Y31.jpg   Y47.JPG  Y66.JPG  Y85.JPG\n",
            "Y114.JPG  Y157.JPG  Y17.jpg   Y1.jpg\tY252.jpg  Y32.jpg   Y49.JPG  Y67.JPG  Y86.JPG\n",
            "Y115.JPG  Y158.JPG  Y180.jpg  Y20.jpg\tY253.JPG  Y33.jpg   Y4.jpg   Y69.jpg  Y89.JPG\n"
          ]
        }
      ],
      "source": [
        "!ls -R /content/brain_tumor_dataset\n"
      ]
    },
    {
      "cell_type": "code",
      "execution_count": null,
      "metadata": {
        "colab": {
          "base_uri": "https://localhost:8080/"
        },
        "id": "PTBohG7tzUmu",
        "outputId": "62314079-a63d-438e-feec-67ba039ef987"
      },
      "outputs": [
        {
          "name": "stdout",
          "output_type": "stream",
          "text": [
            "Number of images in yes: 155\n",
            "Number of images in no: 98\n"
          ]
        }
      ],
      "source": [
        "import os\n",
        "\n",
        "dataset_path = \"/content/brain_tumor_dataset\"\n",
        "\n",
        "# Count images in each category\n",
        "for category in [\"yes\", \"no\"]:\n",
        "    category_path = os.path.join(dataset_path, category)\n",
        "    num_images = len(os.listdir(category_path))\n",
        "    print(f\"Number of images in {category}: {num_images}\")\n"
      ]
    },
    {
      "cell_type": "code",
      "execution_count": null,
      "metadata": {
        "colab": {
          "base_uri": "https://localhost:8080/",
          "height": 338
        },
        "id": "TZkhnGlrzeVH",
        "outputId": "e27eaf81-6bae-46a0-b146-8fff0e799a50"
      },
      "outputs": [
        {
          "data": {
            "image/png": "[encoded data removed]",
            "text/plain": [
              "<Figure size 640x480 with 1 Axes>"
            ]
          },
          "metadata": {},
          "output_type": "display_data"
        }
      ],
      "source": [
        "import cv2\n",
        "import matplotlib.pyplot as plt\n",
        "import random\n",
        "\n",
        "# Load images from 'yes' category\n",
        "category = \"no\"  # Change to \"no\" to test non-tumor images\n",
        "category_path = os.path.join(dataset_path, category)\n",
        "image_files = os.listdir(category_path)\n",
        "\n",
        "# Select a random image\n",
        "random_image = random.choice(image_files)\n",
        "image_path = os.path.join(category_path, random_image)\n",
        "\n",
        "# Read and display the image\n",
        "img = cv2.imread(image_path)\n",
        "img = cv2.cvtColor(img, cv2.COLOR_BGR2RGB)\n",
        "plt.imshow(img)\n",
        "plt.title(f\"Category: {category}\")\n",
        "plt.axis('off')\n",
        "plt.show()\n"
      ]
    },
    {
      "cell_type": "code",
      "execution_count": null,
      "metadata": {
        "colab": {
          "base_uri": "https://localhost:8080/"
        },
        "id": "-qJ9I6Nzzmev",
        "outputId": "66040ae6-3e26-4c17-a700-3653f8a327f7"
      },
      "outputs": [
        {
          "name": "stdout",
          "output_type": "stream",
          "text": [
            "Preprocessed image shape: (224, 224, 3)\n"
          ]
        }
      ],
      "source": [
        "import numpy as np\n",
        "from tensorflow.keras.preprocessing.image import load_img, img_to_array\n",
        "\n",
        "# Define image size\n",
        "IMG_SIZE = (224, 224)  # Change this size if using a different model\n",
        "\n",
        "# Load and preprocess an image\n",
        "def preprocess_image(image_path):\n",
        "    img = load_img(image_path, target_size=IMG_SIZE)  # Load image\n",
        "    img = img_to_array(img)  # Convert to array\n",
        "    img = img / 255.0  # Normalize pixel values\n",
        "    return img\n",
        "\n",
        "# Test on a random image\n",
        "preprocessed_img = preprocess_image(image_path)\n",
        "print(\"Preprocessed image shape:\", preprocessed_img.shape)\n"
      ]
    },
    {
      "cell_type": "code",
      "execution_count": null,
      "metadata": {
        "colab": {
          "base_uri": "https://localhost:8080/"
        },
        "id": "_BdbQL1az0wm",
        "outputId": "ee15885e-5290-4cb4-c422-2416b3212d81"
      },
      "outputs": [
        {
          "name": "stdout",
          "output_type": "stream",
          "text": [
            "Data split completed!\n"
          ]
        }
      ],
      "source": [
        "from sklearn.model_selection import train_test_split\n",
        "import shutil\n",
        "\n",
        "# Define paths\n",
        "train_dir = \"/content/brain_tumor_dataset/train\"\n",
        "val_dir = \"/content/brain_tumor_dataset/val\"\n",
        "\n",
        "# Create train and val directories\n",
        "os.makedirs(train_dir, exist_ok=True)\n",
        "os.makedirs(val_dir, exist_ok=True)\n",
        "\n",
        "# Split data\n",
        "for category in [\"yes\", \"no\"]:\n",
        "    category_path = os.path.join(dataset_path, category)\n",
        "    images = os.listdir(category_path)\n",
        "\n",
        "    train_images, val_images = train_test_split(images, test_size=0.2, random_state=42)\n",
        "\n",
        "    os.makedirs(os.path.join(train_dir, category), exist_ok=True)\n",
        "    os.makedirs(os.path.join(val_dir, category), exist_ok=True)\n",
        "\n",
        "    for img in train_images:\n",
        "        shutil.move(os.path.join(category_path, img), os.path.join(train_dir, category, img))\n",
        "\n",
        "    for img in val_images:\n",
        "        shutil.move(os.path.join(category_path, img), os.path.join(val_dir, category, img))\n",
        "\n",
        "print(\"Data split completed!\")\n"
      ]
    },
    {
      "cell_type": "code",
      "execution_count": null,
      "metadata": {
        "id": "O0Qmhp4y0Gx_"
      },
      "outputs": [],
      "source": [
        "import os\n",
        "import numpy as np\n",
        "import tensorflow as tf\n",
        "from tensorflow.keras.preprocessing.image import ImageDataGenerator\n",
        "from tensorflow.keras.applications import VGG16\n",
        "from tensorflow.keras.layers import Dense, Flatten, Dropout\n",
        "from tensorflow.keras.models import Model\n",
        "from tensorflow.keras.optimizers import Adam\n"
      ]
    },
    {
      "cell_type": "code",
      "execution_count": null,
      "metadata": {
        "id": "4WVfG9RV0P2u"
      },
      "outputs": [],
      "source": [
        "train_dir = \"/content/brain_tumor_dataset/train\"\n",
        "val_dir = \"/content/brain_tumor_dataset/val\"\n",
        "IMG_SIZE = (224, 224)\n",
        "BATCH_SIZE = 32\n"
      ]
    },
    {
      "cell_type": "markdown",
      "metadata": {
        "id": "pRhx4ssBwRL4"
      },
      "source": []
    },
    {
      "cell_type": "code",
      "execution_count": null,
      "metadata": {
        "colab": {
          "base_uri": "https://localhost:8080/"
        },
        "id": "8HXHzWMf0akL",
        "outputId": "c9f7cc1b-5ef1-4faf-96f1-355d9ba5959e"
      },
      "outputs": [
        {
          "name": "stdout",
          "output_type": "stream",
          "text": [
            "Found 202 images belonging to 2 classes.\n",
            "Found 51 images belonging to 2 classes.\n"
          ]
        }
      ],
      "source": [
        "train_datagen = ImageDataGenerator(\n",
        "    rescale=1.0/255.0,  # Normalize pixel values\n",
        "    rotation_range=20,   # Rotate images randomly\n",
        "    width_shift_range=0.2,  # Shift images horizontally\n",
        "    height_shift_range=0.2,  # Shift images vertically\n",
        "    shear_range=0.2,   # Shear transformation\n",
        "    zoom_range=0.2,    # Zoom-in augmentation\n",
        "    horizontal_flip=True,  # Flip images\n",
        "    fill_mode=\"nearest\"\n",
        ")\n",
        "\n",
        "val_datagen = ImageDataGenerator(rescale=1.0/255.0)  # Only normalization for validation\n",
        "\n",
        "# Load train and validation data\n",
        "train_generator = train_datagen.flow_from_directory(\n",
        "    train_dir,\n",
        "    target_size=IMG_SIZE,\n",
        "    batch_size=BATCH_SIZE,\n",
        "    class_mode='binary'  # Two categories: Tumor (Yes) & No Tumor (No)\n",
        ")\n",
        "\n",
        "val_generator = val_datagen.flow_from_directory(\n",
        "    val_dir,\n",
        "    target_size=IMG_SIZE,\n",
        "    batch_size=BATCH_SIZE,\n",
        "    class_mode='binary'\n",
        ")\n"
      ]
    },
    {
      "cell_type": "code",
      "execution_count": null,
      "metadata": {
        "colab": {
          "base_uri": "https://localhost:8080/"
        },
        "id": "dEqB5wNB0mFk",
        "outputId": "5b5e0282-acb9-434a-da8c-73ba11e69cf3"
      },
      "outputs": [
        {
          "name": "stdout",
          "output_type": "stream",
          "text": [
            "Downloading data from https://storage.googleapis.com/tensorflow/keras-applications/vgg16/vgg16_weights_tf_dim_ordering_tf_kernels_notop.h5\n",
            "\u001b[1m58889256/58889256\u001b[0m \u001b[32m━━━━━━━━━━━━━━━━━━━━\u001b[0m\u001b[37m\u001b[0m \u001b[1m2s\u001b[0m 0us/step\n"
          ]
        }
      ],
      "source": [
        "base_model = VGG16(weights=\"imagenet\", include_top=False, input_shape=(224, 224, 3))\n",
        "\n",
        "# Freeze all layers in the base model\n",
        "for layer in base_model.layers:\n",
        "    layer.trainable = False\n"
      ]
    },
    {
      "cell_type": "code",
      "execution_count": null,
      "metadata": {
        "id": "a2gKOEiN0sMc"
      },
      "outputs": [],
      "source": [
        "x = Flatten()(base_model.output)\n",
        "x = Dense(256, activation='relu')(x)  # Fully connected layer\n",
        "x = Dropout(0.5)(x)  # Prevent overfitting\n",
        "x = Dense(1, activation='sigmoid')(x)  # Binary classification output\n",
        "\n",
        "# Create new model\n",
        "model = Model(inputs=base_model.input, outputs=x)\n"
      ]
    },
    {
      "cell_type": "code",
      "execution_count": null,
      "metadata": {
        "id": "2y4RXooV0yic"
      },
      "outputs": [],
      "source": [
        "model.compile(optimizer=Adam(learning_rate=0.0001),\n",
        "              loss='binary_crossentropy',\n",
        "              metrics=['accuracy'])\n"
      ]
    },
    {
      "cell_type": "code",
      "execution_count": null,
      "metadata": {
        "colab": {
          "base_uri": "https://localhost:8080/"
        },
        "id": "eXTg2Nvi060s",
        "outputId": "1b1cddbf-a90e-4d96-9be3-84500dbf989a"
      },
      "outputs": [
        {
          "name": "stderr",
          "output_type": "stream",
          "text": [
            "/usr/local/lib/python3.11/dist-packages/keras/src/trainers/data_adapters/py_dataset_adapter.py:121: UserWarning: Your `PyDataset` class should call `super().__init__(**kwargs)` in its constructor. `**kwargs` can include `workers`, `use_multiprocessing`, `max_queue_size`. Do not pass these arguments to `fit()`, as they will be ignored.\n",
            "  self._warn_if_super_not_called()\n"
          ]
        },
        {
          "name": "stdout",
          "output_type": "stream",
          "text": [
            "Epoch 1/10\n",
            "\u001b[1m7/7\u001b[0m \u001b[32m━━━━━━━━━━━━━━━━━━━━\u001b[0m\u001b[37m\u001b[0m \u001b[1m170s\u001b[0m 25s/step - accuracy: 0.5707 - loss: 0.7765 - val_accuracy: 0.7843 - val_loss: 0.5288\n",
            "Epoch 2/10\n",
            "\u001b[1m7/7\u001b[0m \u001b[32m━━━━━━━━━━━━━━━━━━━━\u001b[0m\u001b[37m\u001b[0m \u001b[1m171s\u001b[0m 25s/step - accuracy: 0.5765 - loss: 0.7117 - val_accuracy: 0.6471 - val_loss: 0.6634\n",
            "Epoch 3/10\n",
            "\u001b[1m7/7\u001b[0m \u001b[32m━━━━━━━━━━━━━━━━━━━━\u001b[0m\u001b[37m\u001b[0m \u001b[1m158s\u001b[0m 23s/step - accuracy: 0.6541 - loss: 0.8023 - val_accuracy: 0.7843 - val_loss: 0.4716\n",
            "Epoch 4/10\n",
            "\u001b[1m7/7\u001b[0m \u001b[32m━━━━━━━━━━━━━━━━━━━━\u001b[0m\u001b[37m\u001b[0m \u001b[1m167s\u001b[0m 25s/step - accuracy: 0.6957 - loss: 0.5576 - val_accuracy: 0.8039 - val_loss: 0.4458\n",
            "Epoch 5/10\n",
            "\u001b[1m7/7\u001b[0m \u001b[32m━━━━━━━━━━━━━━━━━━━━\u001b[0m\u001b[37m\u001b[0m \u001b[1m169s\u001b[0m 24s/step - accuracy: 0.6939 - loss: 0.6115 - val_accuracy: 0.8431 - val_loss: 0.4145\n",
            "Epoch 6/10\n",
            "\u001b[1m7/7\u001b[0m \u001b[32m━━━━━━━━━━━━━━━━━━━━\u001b[0m\u001b[37m\u001b[0m \u001b[1m164s\u001b[0m 23s/step - accuracy: 0.7073 - loss: 0.5598 - val_accuracy: 0.8235 - val_loss: 0.4144\n",
            "Epoch 7/10\n",
            "\u001b[1m7/7\u001b[0m \u001b[32m━━━━━━━━━━━━━━━━━━━━\u001b[0m\u001b[37m\u001b[0m \u001b[1m156s\u001b[0m 23s/step - accuracy: 0.8043 - loss: 0.4581 - val_accuracy: 0.8235 - val_loss: 0.4007\n",
            "Epoch 8/10\n",
            "\u001b[1m7/7\u001b[0m \u001b[32m━━━━━━━━━━━━━━━━━━━━\u001b[0m\u001b[37m\u001b[0m \u001b[1m204s\u001b[0m 23s/step - accuracy: 0.8392 - loss: 0.4088 - val_accuracy: 0.8431 - val_loss: 0.3777\n",
            "Epoch 9/10\n",
            "\u001b[1m7/7\u001b[0m \u001b[32m━━━━━━━━━━━━━━━━━━━━\u001b[0m\u001b[37m\u001b[0m \u001b[1m165s\u001b[0m 24s/step - accuracy: 0.8011 - loss: 0.4493 - val_accuracy: 0.8235 - val_loss: 0.3839\n",
            "Epoch 10/10\n",
            "\u001b[1m7/7\u001b[0m \u001b[32m━━━━━━━━━━━━━━━━━━━━\u001b[0m\u001b[37m\u001b[0m \u001b[1m155s\u001b[0m 23s/step - accuracy: 0.7345 - loss: 0.5345 - val_accuracy: 0.8431 - val_loss: 0.3659\n"
          ]
        }
      ],
      "source": [
        "history = model.fit(\n",
        "    train_generator,\n",
        "    validation_data=val_generator,\n",
        "    epochs=10,  # You can increase the number of epochs\n",
        "    verbose=1\n",
        ")\n"
      ]
    },
    {
      "cell_type": "code",
      "execution_count": null,
      "metadata": {
        "colab": {
          "base_uri": "https://localhost:8080/"
        },
        "id": "VNLVovG71ISF",
        "outputId": "53be15f5-7e0b-4fd1-e732-584d53efd266"
      },
      "outputs": [
        {
          "name": "stdout",
          "output_type": "stream",
          "text": [
            "\u001b[1m2/2\u001b[0m \u001b[32m━━━━━━━━━━━━━━━━━━━━\u001b[0m\u001b[37m\u001b[0m \u001b[1m43s\u001b[0m 12s/step - accuracy: 0.8538 - loss: 0.3694\n",
            "Validation Accuracy: 84.31%\n"
          ]
        }
      ],
      "source": [
        "loss, acc = model.evaluate(val_generator)\n",
        "print(f\"Validation Accuracy: {acc * 100:.2f}%\")\n"
      ]
    },
    {
      "cell_type": "code",
      "execution_count": null,
      "metadata": {
        "id": "NwlWtx2I8JmE"
      },
      "outputs": [],
      "source": [
        "# Unfreeze the last 4 layers of VGG16\n",
        "for layer in base_model.layers[-4:]:\n",
        "    layer.trainable = True\n",
        "\n",
        "# Recompile the model with a lower learning rate\n",
        "model.compile(optimizer=Adam(learning_rate=0.00001),  # Reduce learning rate\n",
        "              loss='binary_crossentropy',\n",
        "              metrics=['accuracy'])\n"
      ]
    },
    {
      "cell_type": "code",
      "execution_count": null,
      "metadata": {
        "id": "z8rKmIMZ8ifa"
      },
      "outputs": [],
      "source": [
        "train_datagen = ImageDataGenerator(\n",
        "    rescale=1.0/255.0,\n",
        "    rotation_range=30,  # Increase rotation\n",
        "    width_shift_range=0.3,  # More shift\n",
        "    height_shift_range=0.3,\n",
        "    shear_range=0.3,\n",
        "    zoom_range=0.3,\n",
        "    horizontal_flip=True,\n",
        "    brightness_range=[0.8, 1.2],  # Vary brightness\n",
        "    fill_mode=\"nearest\"\n",
        ")\n"
      ]
    },
    {
      "cell_type": "code",
      "execution_count": null,
      "metadata": {
        "id": "ec8Mlvfu8pLF"
      },
      "outputs": [],
      "source": [
        "x = Flatten()(base_model.output)\n",
        "x = Dense(512, activation='relu')(x)  # Increase neurons\n",
        "x = Dropout(0.6)(x)  # Increase dropout\n",
        "x = Dense(256, activation='relu')(x)\n",
        "x = Dropout(0.5)(x)\n",
        "x = Dense(1, activation='sigmoid')(x)\n"
      ]
    },
    {
      "cell_type": "code",
      "execution_count": null,
      "metadata": {
        "colab": {
          "background_save": true,
          "base_uri": "https://localhost:8080/"
        },
        "id": "MM7eAAxL8xPl",
        "outputId": "ec8ca466-043e-41fd-c497-7e35f1122f2c"
      },
      "outputs": [
        {
          "name": "stdout",
          "output_type": "stream",
          "text": [
            "Epoch 1/20\n",
            "\u001b[1m7/7\u001b[0m \u001b[32m━━━━━━━━━━━━━━━━━━━━\u001b[0m\u001b[37m\u001b[0m \u001b[1m190s\u001b[0m 27s/step - accuracy: 0.8436 - loss: 0.4061 - val_accuracy: 0.8235 - val_loss: 0.3226\n",
            "Epoch 2/20\n",
            "\u001b[1m7/7\u001b[0m \u001b[32m━━━━━━━━━━━━━━━━━━━━\u001b[0m\u001b[37m\u001b[0m \u001b[1m183s\u001b[0m 26s/step - accuracy: 0.7774 - loss: 0.4484 - val_accuracy: 0.8235 - val_loss: 0.3564\n",
            "Epoch 3/20\n",
            "\u001b[1m7/7\u001b[0m \u001b[32m━━━━━━━━━━━━━━━━━━━━\u001b[0m\u001b[37m\u001b[0m \u001b[1m194s\u001b[0m 28s/step - accuracy: 0.8507 - loss: 0.3918 - val_accuracy: 0.8824 - val_loss: 0.2898\n",
            "Epoch 4/20\n",
            "\u001b[1m7/7\u001b[0m \u001b[32m━━━━━━━━━━━━━━━━━━━━\u001b[0m\u001b[37m\u001b[0m \u001b[1m185s\u001b[0m 27s/step - accuracy: 0.8224 - loss: 0.3394 - val_accuracy: 0.8824 - val_loss: 0.2404\n",
            "Epoch 5/20\n",
            "\u001b[1m7/7\u001b[0m \u001b[32m━━━━━━━━━━━━━━━━━━━━\u001b[0m\u001b[37m\u001b[0m \u001b[1m201s\u001b[0m 26s/step - accuracy: 0.8848 - loss: 0.2758 - val_accuracy: 0.9020 - val_loss: 0.2472\n",
            "Epoch 6/20\n",
            "\u001b[1m7/7\u001b[0m \u001b[32m━━━━━━━━━━━━━━━━━━━━\u001b[0m\u001b[37m\u001b[0m \u001b[1m195s\u001b[0m 28s/step - accuracy: 0.9127 - loss: 0.2238 - val_accuracy: 0.8431 - val_loss: 0.3369\n",
            "Epoch 7/20\n",
            "\u001b[1m7/7\u001b[0m \u001b[32m━━━━━━━━━━━━━━━━━━━━\u001b[0m\u001b[37m\u001b[0m \u001b[1m185s\u001b[0m 29s/step - accuracy: 0.8656 - loss: 0.2821 - val_accuracy: 0.9412 - val_loss: 0.1584\n",
            "Epoch 8/20\n",
            "\u001b[1m7/7\u001b[0m \u001b[32m━━━━━━━━━━━━━━━━━━━━\u001b[0m\u001b[37m\u001b[0m \u001b[1m183s\u001b[0m 27s/step - accuracy: 0.9114 - loss: 0.1669 - val_accuracy: 0.9216 - val_loss: 0.1214\n",
            "Epoch 9/20\n",
            "\u001b[1m7/7\u001b[0m \u001b[32m━━━━━━━━━━━━━━━━━━━━\u001b[0m\u001b[37m\u001b[0m \u001b[1m184s\u001b[0m 27s/step - accuracy: 0.9050 - loss: 0.1690 - val_accuracy: 0.9608 - val_loss: 0.0998\n",
            "Epoch 10/20\n",
            "\u001b[1m7/7\u001b[0m \u001b[32m━━━━━━━━━━━━━━━━━━━━\u001b[0m\u001b[37m\u001b[0m \u001b[1m194s\u001b[0m 28s/step - accuracy: 0.9381 - loss: 0.1797 - val_accuracy: 0.9412 - val_loss: 0.1107\n",
            "Epoch 11/20\n",
            "\u001b[1m7/7\u001b[0m \u001b[32m━━━━━━━━━━━━━━━━━━━━\u001b[0m\u001b[37m\u001b[0m \u001b[1m185s\u001b[0m 27s/step - accuracy: 0.9659 - loss: 0.1067 - val_accuracy: 0.9216 - val_loss: 0.1581\n",
            "Epoch 12/20\n",
            "\u001b[1m7/7\u001b[0m \u001b[32m━━━━━━━━━━━━━━━━━━━━\u001b[0m\u001b[37m\u001b[0m \u001b[1m184s\u001b[0m 27s/step - accuracy: 0.9474 - loss: 0.1045 - val_accuracy: 0.9020 - val_loss: 0.1701\n",
            "Epoch 13/20\n",
            "\u001b[1m7/7\u001b[0m \u001b[32m━━━━━━━━━━━━━━━━━━━━\u001b[0m\u001b[37m\u001b[0m \u001b[1m192s\u001b[0m 31s/step - accuracy: 0.9479 - loss: 0.1889 - val_accuracy: 0.8824 - val_loss: 0.2816\n",
            "Epoch 14/20\n",
            "\u001b[1m7/7\u001b[0m \u001b[32m━━━━━━━━━━━━━━━━━━━━\u001b[0m\u001b[37m\u001b[0m \u001b[1m184s\u001b[0m 26s/step - accuracy: 0.9325 - loss: 0.1735 - val_accuracy: 0.9216 - val_loss: 0.1471\n",
            "Epoch 15/20\n",
            "\u001b[1m7/7\u001b[0m \u001b[32m━━━━━━━━━━━━━━━━━━━━\u001b[0m\u001b[37m\u001b[0m \u001b[1m182s\u001b[0m 26s/step - accuracy: 0.9804 - loss: 0.0923 - val_accuracy: 0.9608 - val_loss: 0.0759\n",
            "Epoch 16/20\n",
            "\u001b[1m7/7\u001b[0m \u001b[32m━━━━━━━━━━━━━━━━━━━━\u001b[0m\u001b[37m\u001b[0m \u001b[1m192s\u001b[0m 28s/step - accuracy: 0.9742 - loss: 0.0730 - val_accuracy: 0.9804 - val_loss: 0.0935\n",
            "Epoch 17/20\n",
            "\u001b[1m7/7\u001b[0m \u001b[32m━━━━━━━━━━━━━━━━━━━━\u001b[0m\u001b[37m\u001b[0m \u001b[1m183s\u001b[0m 26s/step - accuracy: 0.9591 - loss: 0.0823 - val_accuracy: 0.8235 - val_loss: 0.3791\n",
            "Epoch 18/20\n",
            "\u001b[1m7/7\u001b[0m \u001b[32m━━━━━━━━━━━━━━━━━━━━\u001b[0m\u001b[37m\u001b[0m \u001b[1m183s\u001b[0m 27s/step - accuracy: 0.9468 - loss: 0.1501 - val_accuracy: 0.8824 - val_loss: 0.2508\n",
            "Epoch 19/20\n",
            "\u001b[1m7/7\u001b[0m \u001b[32m━━━━━━━━━━━━━━━━━━━━\u001b[0m\u001b[37m\u001b[0m \u001b[1m192s\u001b[0m 28s/step - accuracy: 0.9509 - loss: 0.1396 - val_accuracy: 0.9804 - val_loss: 0.1113\n",
            "Epoch 20/20\n",
            "\u001b[1m7/7\u001b[0m \u001b[32m━━━━━━━━━━━━━━━━━━━━\u001b[0m\u001b[37m\u001b[0m \u001b[1m193s\u001b[0m 28s/step - accuracy: 0.9988 - loss: 0.0482 - val_accuracy: 0.9412 - val_loss: 0.1123\n"
          ]
        }
      ],
      "source": [
        "history = model.fit(\n",
        "    train_generator,\n",
        "    validation_data=val_generator,\n",
        "    epochs=20,  # Increase epochs to 20-30\n",
        "    verbose=1\n",
        ")\n"
      ]
    },
    {
      "cell_type": "code",
      "execution_count": null,
      "metadata": {
        "id": "GZ4Tb3aQScOu"
      },
      "outputs": [],
      "source": [
        "from tensorflow.keras.optimizers import AdamW\n",
        "\n",
        "model.compile(optimizer=AdamW(learning_rate=0.00005),\n",
        "              loss='binary_crossentropy',\n",
        "              metrics=['accuracy'])\n"
      ]
    },
    {
      "cell_type": "code",
      "execution_count": null,
      "metadata": {
        "colab": {
          "base_uri": "https://localhost:8080/"
        },
        "id": "igukJW4sSeyD",
        "outputId": "8b427a30-b30c-4a33-c0e9-49d1c53e765e"
      },
      "outputs": [
        {
          "name": "stdout",
          "output_type": "stream",
          "text": [
            "\u001b[1m2/2\u001b[0m \u001b[32m━━━━━━━━━━━━━━━━━━━━\u001b[0m\u001b[37m\u001b[0m \u001b[1m32s\u001b[0m 12s/step - accuracy: 0.8225 - loss: 0.3745\n",
            "Validation Accuracy: 84.31%\n"
          ]
        }
      ],
      "source": [
        "loss, acc = model.evaluate(val_generator)\n",
        "print(f\"Validation Accuracy: {acc * 100:.2f}%\")\n"
      ]
    },
    {
      "cell_type": "code",
      "execution_count": null,
      "metadata": {
        "colab": {
          "base_uri": "https://localhost:8080/"
        },
        "id": "_xOJox1HS2q6",
        "outputId": "2cc2ca27-c54a-4585-9989-44b10469f5c2"
      },
      "outputs": [
        {
          "name": "stderr",
          "output_type": "stream",
          "text": [
            "WARNING:absl:You are saving your model as an HDF5 file via `model.save()` or `keras.saving.save_model(model)`. This file format is considered legacy. We recommend using instead the native Keras format, e.g. `model.save('my_model.keras')` or `keras.saving.save_model(model, 'my_model.keras')`. \n"
          ]
        },
        {
          "name": "stdout",
          "output_type": "stream",
          "text": [
            "Model saved successfully!\n"
          ]
        }
      ],
      "source": [
        "model.save(\"/content/vgg16_brain_tumor.h5\")\n",
        "print(\"Model saved successfully!\")\n"
      ]
    },
    {
      "cell_type": "code",
      "execution_count": null,
      "metadata": {
        "colab": {
          "base_uri": "https://localhost:8080/",
          "height": 494
        },
        "id": "YACXKTWcTSWq",
        "outputId": "c133d50d-d4c3-48d5-ad08-236377723696"
      },
      "outputs": [
        {
          "output_type": "error",
          "ename": "FileNotFoundError",
          "evalue": "[Errno 2] Unable to synchronously open file (unable to open file: name = '/content/vgg16_brain_tumor.h5', errno = 2, error message = 'No such file or directory', flags = 0, o_flags = 0)",
          "traceback": [
            "\u001b[0;31m---------------------------------------------------------------------------\u001b[0m",
            "\u001b[0;31mFileNotFoundError\u001b[0m                         Traceback (most recent call last)",
            "\u001b[0;32m<ipython-input-1-b90b2c78f801>\u001b[0m in \u001b[0;36m<cell line: 0>\u001b[0;34m()\u001b[0m\n\u001b[1;32m      2\u001b[0m \u001b[0;34m\u001b[0m\u001b[0m\n\u001b[1;32m      3\u001b[0m \u001b[0;31m# Load the trained model\u001b[0m\u001b[0;34m\u001b[0m\u001b[0;34m\u001b[0m\u001b[0m\n\u001b[0;32m----> 4\u001b[0;31m \u001b[0mmodel\u001b[0m \u001b[0;34m=\u001b[0m \u001b[0mload_model\u001b[0m\u001b[0;34m(\u001b[0m\u001b[0;34m\"/content/vgg16_brain_tumor.h5\"\u001b[0m\u001b[0;34m)\u001b[0m\u001b[0;34m\u001b[0m\u001b[0;34m\u001b[0m\u001b[0m\n\u001b[0m\u001b[1;32m      5\u001b[0m \u001b[0;34m\u001b[0m\u001b[0m\n\u001b[1;32m      6\u001b[0m \u001b[0mprint\u001b[0m\u001b[0;34m(\u001b[0m\u001b[0;34m\"Model loaded successfully!\"\u001b[0m\u001b[0;34m)\u001b[0m\u001b[0;34m\u001b[0m\u001b[0;34m\u001b[0m\u001b[0m\n",
            "\u001b[0;32m/usr/local/lib/python3.11/dist-packages/keras/src/saving/saving_api.py\u001b[0m in \u001b[0;36mload_model\u001b[0;34m(filepath, custom_objects, compile, safe_mode)\u001b[0m\n\u001b[1;32m    194\u001b[0m         )\n\u001b[1;32m    195\u001b[0m     \u001b[0;32mif\u001b[0m \u001b[0mstr\u001b[0m\u001b[0;34m(\u001b[0m\u001b[0mfilepath\u001b[0m\u001b[0;34m)\u001b[0m\u001b[0;34m.\u001b[0m\u001b[0mendswith\u001b[0m\u001b[0;34m(\u001b[0m\u001b[0;34m(\u001b[0m\u001b[0;34m\".h5\"\u001b[0m\u001b[0;34m,\u001b[0m \u001b[0;34m\".hdf5\"\u001b[0m\u001b[0;34m)\u001b[0m\u001b[0;34m)\u001b[0m\u001b[0;34m:\u001b[0m\u001b[0;34m\u001b[0m\u001b[0;34m\u001b[0m\u001b[0m\n\u001b[0;32m--> 196\u001b[0;31m         return legacy_h5_format.load_model_from_hdf5(\n\u001b[0m\u001b[1;32m    197\u001b[0m             \u001b[0mfilepath\u001b[0m\u001b[0;34m,\u001b[0m \u001b[0mcustom_objects\u001b[0m\u001b[0;34m=\u001b[0m\u001b[0mcustom_objects\u001b[0m\u001b[0;34m,\u001b[0m \u001b[0mcompile\u001b[0m\u001b[0;34m=\u001b[0m\u001b[0mcompile\u001b[0m\u001b[0;34m\u001b[0m\u001b[0;34m\u001b[0m\u001b[0m\n\u001b[1;32m    198\u001b[0m         )\n",
            "\u001b[0;32m/usr/local/lib/python3.11/dist-packages/keras/src/legacy/saving/legacy_h5_format.py\u001b[0m in \u001b[0;36mload_model_from_hdf5\u001b[0;34m(filepath, custom_objects, compile)\u001b[0m\n\u001b[1;32m    114\u001b[0m     \u001b[0mopened_new_file\u001b[0m \u001b[0;34m=\u001b[0m \u001b[0;32mnot\u001b[0m \u001b[0misinstance\u001b[0m\u001b[0;34m(\u001b[0m\u001b[0mfilepath\u001b[0m\u001b[0;34m,\u001b[0m \u001b[0mh5py\u001b[0m\u001b[0;34m.\u001b[0m\u001b[0mFile\u001b[0m\u001b[0;34m)\u001b[0m\u001b[0;34m\u001b[0m\u001b[0;34m\u001b[0m\u001b[0m\n\u001b[1;32m    115\u001b[0m     \u001b[0;32mif\u001b[0m \u001b[0mopened_new_file\u001b[0m\u001b[0;34m:\u001b[0m\u001b[0;34m\u001b[0m\u001b[0;34m\u001b[0m\u001b[0m\n\u001b[0;32m--> 116\u001b[0;31m         \u001b[0mf\u001b[0m \u001b[0;34m=\u001b[0m \u001b[0mh5py\u001b[0m\u001b[0;34m.\u001b[0m\u001b[0mFile\u001b[0m\u001b[0;34m(\u001b[0m\u001b[0mfilepath\u001b[0m\u001b[0;34m,\u001b[0m \u001b[0mmode\u001b[0m\u001b[0;34m=\u001b[0m\u001b[0;34m\"r\"\u001b[0m\u001b[0;34m)\u001b[0m\u001b[0;34m\u001b[0m\u001b[0;34m\u001b[0m\u001b[0m\n\u001b[0m\u001b[1;32m    117\u001b[0m     \u001b[0;32melse\u001b[0m\u001b[0;34m:\u001b[0m\u001b[0;34m\u001b[0m\u001b[0;34m\u001b[0m\u001b[0m\n\u001b[1;32m    118\u001b[0m         \u001b[0mf\u001b[0m \u001b[0;34m=\u001b[0m \u001b[0mfilepath\u001b[0m\u001b[0;34m\u001b[0m\u001b[0;34m\u001b[0m\u001b[0m\n",
            "\u001b[0;32m/usr/local/lib/python3.11/dist-packages/h5py/_hl/files.py\u001b[0m in \u001b[0;36m__init__\u001b[0;34m(self, name, mode, driver, libver, userblock_size, swmr, rdcc_nslots, rdcc_nbytes, rdcc_w0, track_order, fs_strategy, fs_persist, fs_threshold, fs_page_size, page_buf_size, min_meta_keep, min_raw_keep, locking, alignment_threshold, alignment_interval, meta_block_size, **kwds)\u001b[0m\n\u001b[1;32m    559\u001b[0m                                  \u001b[0mfs_persist\u001b[0m\u001b[0;34m=\u001b[0m\u001b[0mfs_persist\u001b[0m\u001b[0;34m,\u001b[0m \u001b[0mfs_threshold\u001b[0m\u001b[0;34m=\u001b[0m\u001b[0mfs_threshold\u001b[0m\u001b[0;34m,\u001b[0m\u001b[0;34m\u001b[0m\u001b[0;34m\u001b[0m\u001b[0m\n\u001b[1;32m    560\u001b[0m                                  fs_page_size=fs_page_size)\n\u001b[0;32m--> 561\u001b[0;31m                 \u001b[0mfid\u001b[0m \u001b[0;34m=\u001b[0m \u001b[0mmake_fid\u001b[0m\u001b[0;34m(\u001b[0m\u001b[0mname\u001b[0m\u001b[0;34m,\u001b[0m \u001b[0mmode\u001b[0m\u001b[0;34m,\u001b[0m \u001b[0muserblock_size\u001b[0m\u001b[0;34m,\u001b[0m \u001b[0mfapl\u001b[0m\u001b[0;34m,\u001b[0m \u001b[0mfcpl\u001b[0m\u001b[0;34m,\u001b[0m \u001b[0mswmr\u001b[0m\u001b[0;34m=\u001b[0m\u001b[0mswmr\u001b[0m\u001b[0;34m)\u001b[0m\u001b[0;34m\u001b[0m\u001b[0;34m\u001b[0m\u001b[0m\n\u001b[0m\u001b[1;32m    562\u001b[0m \u001b[0;34m\u001b[0m\u001b[0m\n\u001b[1;32m    563\u001b[0m             \u001b[0;32mif\u001b[0m \u001b[0misinstance\u001b[0m\u001b[0;34m(\u001b[0m\u001b[0mlibver\u001b[0m\u001b[0;34m,\u001b[0m \u001b[0mtuple\u001b[0m\u001b[0;34m)\u001b[0m\u001b[0;34m:\u001b[0m\u001b[0;34m\u001b[0m\u001b[0;34m\u001b[0m\u001b[0m\n",
            "\u001b[0;32m/usr/local/lib/python3.11/dist-packages/h5py/_hl/files.py\u001b[0m in \u001b[0;36mmake_fid\u001b[0;34m(name, mode, userblock_size, fapl, fcpl, swmr)\u001b[0m\n\u001b[1;32m    233\u001b[0m         \u001b[0;32mif\u001b[0m \u001b[0mswmr\u001b[0m \u001b[0;32mand\u001b[0m \u001b[0mswmr_support\u001b[0m\u001b[0;34m:\u001b[0m\u001b[0;34m\u001b[0m\u001b[0;34m\u001b[0m\u001b[0m\n\u001b[1;32m    234\u001b[0m             \u001b[0mflags\u001b[0m \u001b[0;34m|=\u001b[0m \u001b[0mh5f\u001b[0m\u001b[0;34m.\u001b[0m\u001b[0mACC_SWMR_READ\u001b[0m\u001b[0;34m\u001b[0m\u001b[0;34m\u001b[0m\u001b[0m\n\u001b[0;32m--> 235\u001b[0;31m         \u001b[0mfid\u001b[0m \u001b[0;34m=\u001b[0m \u001b[0mh5f\u001b[0m\u001b[0;34m.\u001b[0m\u001b[0mopen\u001b[0m\u001b[0;34m(\u001b[0m\u001b[0mname\u001b[0m\u001b[0;34m,\u001b[0m \u001b[0mflags\u001b[0m\u001b[0;34m,\u001b[0m \u001b[0mfapl\u001b[0m\u001b[0;34m=\u001b[0m\u001b[0mfapl\u001b[0m\u001b[0;34m)\u001b[0m\u001b[0;34m\u001b[0m\u001b[0;34m\u001b[0m\u001b[0m\n\u001b[0m\u001b[1;32m    236\u001b[0m     \u001b[0;32melif\u001b[0m \u001b[0mmode\u001b[0m \u001b[0;34m==\u001b[0m \u001b[0;34m'r+'\u001b[0m\u001b[0;34m:\u001b[0m\u001b[0;34m\u001b[0m\u001b[0;34m\u001b[0m\u001b[0m\n\u001b[1;32m    237\u001b[0m         \u001b[0mfid\u001b[0m \u001b[0;34m=\u001b[0m \u001b[0mh5f\u001b[0m\u001b[0;34m.\u001b[0m\u001b[0mopen\u001b[0m\u001b[0;34m(\u001b[0m\u001b[0mname\u001b[0m\u001b[0;34m,\u001b[0m \u001b[0mh5f\u001b[0m\u001b[0;34m.\u001b[0m\u001b[0mACC_RDWR\u001b[0m\u001b[0;34m,\u001b[0m \u001b[0mfapl\u001b[0m\u001b[0;34m=\u001b[0m\u001b[0mfapl\u001b[0m\u001b[0;34m)\u001b[0m\u001b[0;34m\u001b[0m\u001b[0;34m\u001b[0m\u001b[0m\n",
            "\u001b[0;32mh5py/_objects.pyx\u001b[0m in \u001b[0;36mh5py._objects.with_phil.wrapper\u001b[0;34m()\u001b[0m\n",
            "\u001b[0;32mh5py/_objects.pyx\u001b[0m in \u001b[0;36mh5py._objects.with_phil.wrapper\u001b[0;34m()\u001b[0m\n",
            "\u001b[0;32mh5py/h5f.pyx\u001b[0m in \u001b[0;36mh5py.h5f.open\u001b[0;34m()\u001b[0m\n",
            "\u001b[0;31mFileNotFoundError\u001b[0m: [Errno 2] Unable to synchronously open file (unable to open file: name = '/content/vgg16_brain_tumor.h5', errno = 2, error message = 'No such file or directory', flags = 0, o_flags = 0)"
          ]
        }
      ],
      "source": [
        "from tensorflow.keras.models import load_model\n",
        "\n",
        "# Load the trained model\n",
        "model = load_model(\"/content/vgg16_brain_tumor.h5\")\n",
        "\n",
        "print(\"Model loaded successfully!\")\n"
      ]
    },
    {
      "cell_type": "code",
      "execution_count": null,
      "metadata": {
        "colab": {
          "base_uri": "https://localhost:8080/",
          "height": 406
        },
        "id": "zY7GsMtnTYoh",
        "outputId": "28ac3866-cea7-4f26-e8f7-4178cbe995d3"
      },
      "outputs": [
        {
          "data": {
            "image/png": "[encoded data removed]",
            "text/plain": [
              "<Figure size 640x480 with 1 Axes>"
            ]
          },
          "metadata": {},
          "output_type": "display_data"
        }
      ],
      "source": [
        "import cv2\n",
        "import numpy as np\n",
        "import matplotlib.pyplot as plt\n",
        "\n",
        "# Load an image from local storage\n",
        "img_path = \"/content/btest2.jpg\"  # Replace with your image path\n",
        "\n",
        "# Load and preprocess the image\n",
        "img = cv2.imread(img_path)\n",
        "img = cv2.resize(img, (224, 224))  # Resize to match VGG16 input size\n",
        "img = img / 255.0  # Normalize pixel values (0-1)\n",
        "img = np.expand_dims(img, axis=0)  # Add batch dimension\n",
        "\n",
        "# Display the image\n",
        "plt.imshow(cv2.cvtColor(cv2.imread(img_path), cv2.COLOR_BGR2RGB))\n",
        "plt.axis(\"off\")\n",
        "plt.show()\n"
      ]
    },
    {
      "cell_type": "code",
      "execution_count": null,
      "metadata": {
        "id": "JZVw1KkyutWA"
      },
      "outputs": [],
      "source": [
        "from google.colab import drive\n",
        "drive.mount('/content/drive')"
      ]
    },
    {
      "cell_type": "code",
      "execution_count": null,
      "metadata": {
        "colab": {
          "base_uri": "https://localhost:8080/",
          "height": 218
        },
        "id": "yxqFzYo3TsPb",
        "outputId": "6fca78b9-ba1b-48dc-829c-19b800c5803d"
      },
      "outputs": [
        {
          "ename": "NameError",
          "evalue": "name 'model' is not defined",
          "output_type": "error",
          "traceback": [
            "\u001b[0;31m---------------------------------------------------------------------------\u001b[0m",
            "\u001b[0;31mNameError\u001b[0m                                 Traceback (most recent call last)",
            "\u001b[0;32m<ipython-input-20-deb025b4fdb5>\u001b[0m in \u001b[0;36m<cell line: 0>\u001b[0;34m()\u001b[0m\n\u001b[1;32m      1\u001b[0m \u001b[0;31m# Predict the class (0 = No Tumor, 1 = Tumor)\u001b[0m\u001b[0;34m\u001b[0m\u001b[0;34m\u001b[0m\u001b[0m\n\u001b[0;32m----> 2\u001b[0;31m \u001b[0mprediction\u001b[0m \u001b[0;34m=\u001b[0m \u001b[0mmodel\u001b[0m\u001b[0;34m.\u001b[0m\u001b[0mpredict\u001b[0m\u001b[0;34m(\u001b[0m\u001b[0mimg\u001b[0m\u001b[0;34m)\u001b[0m\u001b[0;34m\u001b[0m\u001b[0;34m\u001b[0m\u001b[0m\n\u001b[0m\u001b[1;32m      3\u001b[0m \u001b[0;34m\u001b[0m\u001b[0m\n\u001b[1;32m      4\u001b[0m \u001b[0;31m# Convert probability to class\u001b[0m\u001b[0;34m\u001b[0m\u001b[0;34m\u001b[0m\u001b[0m\n\u001b[1;32m      5\u001b[0m \u001b[0;32mif\u001b[0m \u001b[0mprediction\u001b[0m\u001b[0;34m[\u001b[0m\u001b[0;36m0\u001b[0m\u001b[0;34m]\u001b[0m\u001b[0;34m[\u001b[0m\u001b[0;36m0\u001b[0m\u001b[0;34m]\u001b[0m \u001b[0;34m>\u001b[0m \u001b[0;36m0.5\u001b[0m\u001b[0;34m:\u001b[0m\u001b[0;34m\u001b[0m\u001b[0;34m\u001b[0m\u001b[0m\n",
            "\u001b[0;31mNameError\u001b[0m: name 'model' is not defined"
          ]
        }
      ],
      "source": [
        "# Predict the class (0 = No Tumor, 1 = Tumor)\n",
        "prediction = model.predict(img)\n",
        "\n",
        "# Convert probability to class\n",
        "if prediction[0][0] > 0.5:\n",
        "    print(\"Prediction: Tumor detected 🚨\")\n",
        "else:\n",
        "    print(\"Prediction: No tumor ✅\")\n"
      ]
    },
    {
      "cell_type": "code",
      "execution_count": null,
      "metadata": {
        "colab": {
          "base_uri": "https://localhost:8080/"
        },
        "id": "tXlKY0NuT5eJ",
        "outputId": "eb2c72a4-da0f-425b-b7c2-430c465dc595"
      },
      "outputs": [
        {
          "name": "stdout",
          "output_type": "stream",
          "text": [
            "\u001b[1m1/1\u001b[0m \u001b[32m━━━━━━━━━━━━━━━━━━━━\u001b[0m\u001b[37m\u001b[0m \u001b[1m1s\u001b[0m 556ms/step\n",
            "23 no.jpg: No Tumor\n",
            "\u001b[1m1/1\u001b[0m \u001b[32m━━━━━━━━━━━━━━━━━━━━\u001b[0m\u001b[37m\u001b[0m \u001b[1m1s\u001b[0m 543ms/step\n",
            "No19.jpg: No Tumor\n",
            "\u001b[1m1/1\u001b[0m \u001b[32m━━━━━━━━━━━━━━━━━━━━\u001b[0m\u001b[37m\u001b[0m \u001b[1m1s\u001b[0m 562ms/step\n",
            "no 8.jpg: No Tumor\n",
            "\u001b[1m1/1\u001b[0m \u001b[32m━━━━━━━━━━━━━━━━━━━━\u001b[0m\u001b[37m\u001b[0m \u001b[1m1s\u001b[0m 543ms/step\n",
            "no 94.jpg: No Tumor\n",
            "\u001b[1m1/1\u001b[0m \u001b[32m━━━━━━━━━━━━━━━━━━━━\u001b[0m\u001b[37m\u001b[0m \u001b[1m1s\u001b[0m 548ms/step\n",
            "N3.jpg: No Tumor\n",
            "\u001b[1m1/1\u001b[0m \u001b[32m━━━━━━━━━━━━━━━━━━━━\u001b[0m\u001b[37m\u001b[0m \u001b[1m1s\u001b[0m 609ms/step\n",
            "No15.jpg: No Tumor\n",
            "\u001b[1m1/1\u001b[0m \u001b[32m━━━━━━━━━━━━━━━━━━━━\u001b[0m\u001b[37m\u001b[0m \u001b[1m1s\u001b[0m 540ms/step\n",
            "no 89.jpg: No Tumor\n",
            "\u001b[1m1/1\u001b[0m \u001b[32m━━━━━━━━━━━━━━━━━━━━\u001b[0m\u001b[37m\u001b[0m \u001b[1m1s\u001b[0m 537ms/step\n",
            "No11.jpg: No Tumor\n",
            "\u001b[1m1/1\u001b[0m \u001b[32m━━━━━━━━━━━━━━━━━━━━\u001b[0m\u001b[37m\u001b[0m \u001b[1m1s\u001b[0m 987ms/step\n",
            "8 no.jpg: No Tumor\n",
            "\u001b[1m1/1\u001b[0m \u001b[32m━━━━━━━━━━━━━━━━━━━━\u001b[0m\u001b[37m\u001b[0m \u001b[1m1s\u001b[0m 945ms/step\n",
            "N17.jpg: No Tumor\n",
            "\u001b[1m1/1\u001b[0m \u001b[32m━━━━━━━━━━━━━━━━━━━━\u001b[0m\u001b[37m\u001b[0m \u001b[1m1s\u001b[0m 724ms/step\n",
            "42 no.jpg: No Tumor\n",
            "\u001b[1m1/1\u001b[0m \u001b[32m━━━━━━━━━━━━━━━━━━━━\u001b[0m\u001b[37m\u001b[0m \u001b[1m1s\u001b[0m 577ms/step\n",
            "37 no.jpg: No Tumor\n",
            "\u001b[1m1/1\u001b[0m \u001b[32m━━━━━━━━━━━━━━━━━━━━\u001b[0m\u001b[37m\u001b[0m \u001b[1m1s\u001b[0m 574ms/step\n",
            "No12.jpg: Tumor\n",
            "\u001b[1m1/1\u001b[0m \u001b[32m━━━━━━━━━━━━━━━━━━━━\u001b[0m\u001b[37m\u001b[0m \u001b[1m1s\u001b[0m 557ms/step\n",
            "48 no.jpeg: No Tumor\n",
            "\u001b[1m1/1\u001b[0m \u001b[32m━━━━━━━━━━━━━━━━━━━━\u001b[0m\u001b[37m\u001b[0m \u001b[1m1s\u001b[0m 561ms/step\n",
            "27 no.jpg: No Tumor\n",
            "\u001b[1m1/1\u001b[0m \u001b[32m━━━━━━━━━━━━━━━━━━━━\u001b[0m\u001b[37m\u001b[0m \u001b[1m1s\u001b[0m 558ms/step\n",
            "50 no.jpg: No Tumor\n",
            "\u001b[1m1/1\u001b[0m \u001b[32m━━━━━━━━━━━━━━━━━━━━\u001b[0m\u001b[37m\u001b[0m \u001b[1m1s\u001b[0m 552ms/step\n",
            "49 no.jpg: No Tumor\n",
            "\u001b[1m1/1\u001b[0m \u001b[32m━━━━━━━━━━━━━━━━━━━━\u001b[0m\u001b[37m\u001b[0m \u001b[1m1s\u001b[0m 544ms/step\n",
            "20 no.jpg: No Tumor\n",
            "\u001b[1m1/1\u001b[0m \u001b[32m━━━━━━━━━━━━━━━━━━━━\u001b[0m\u001b[37m\u001b[0m \u001b[1m1s\u001b[0m 572ms/step\n",
            "5 no.jpg: No Tumor\n",
            "\u001b[1m1/1\u001b[0m \u001b[32m━━━━━━━━━━━━━━━━━━━━\u001b[0m\u001b[37m\u001b[0m \u001b[1m1s\u001b[0m 556ms/step\n",
            "N26.JPG: No Tumor\n"
          ]
        }
      ],
      "source": [
        "import os\n",
        "\n",
        "test_folder = \"/content/brain_tumor_dataset/val/no\"  # Replace with your test image folder\n",
        "\n",
        "for img_name in os.listdir(test_folder):\n",
        "    img_path = os.path.join(test_folder, img_name)\n",
        "\n",
        "    img = cv2.imread(img_path)\n",
        "    img = cv2.resize(img, (224, 224))\n",
        "    img = img / 255.0\n",
        "    img = np.expand_dims(img, axis=0)\n",
        "\n",
        "    prediction = model.predict(img)\n",
        "\n",
        "    result = \"Tumor\" if prediction[0][0] > 0.5 else \"No Tumor\"\n",
        "    print(f\"{img_name}: {result}\")\n"
      ]
    }
  ],
  "metadata": {
    "colab": {
      "provenance": [],
      "authorship_tag": "ABX9TyM8V/KmWYQvUHN+kx7w2sJ6",
      "include_colab_link": true
    },
    "kernelspec": {
      "display_name": "Python 3",
      "name": "python3"
    },
    "language_info": {
      "name": "python"
    }
  },
  "nbformat": 4,
  "nbformat_minor": 0
}